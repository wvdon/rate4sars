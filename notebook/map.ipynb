{
 "cells": [
  {
   "cell_type": "code",
   "execution_count": 2,
   "id": "dd04d87f-597c-4be9-9e60-09bd5faf0b53",
   "metadata": {
    "tags": []
   },
   "outputs": [],
   "source": [
    "import pandas as pd\n",
    "from pyecharts import options as opts\n",
    "from pyecharts.charts import Map\n",
    "from pyecharts.globals import ThemeType"
   ]
  },
  {
   "cell_type": "code",
   "execution_count": 2,
   "id": "ef33964e-2651-4668-a074-c1d452a852d1",
   "metadata": {
    "tags": []
   },
   "outputs": [],
   "source": [
    "list_t = [['美国',1112,'United States'],['中国',2222,'China']]\n",
    "data = pd.DataFrame(list_t,columns=[['国家','GDP','国家_re']])"
   ]
  },
  {
   "cell_type": "code",
   "execution_count": 5,
   "id": "51c636b7-1266-4f9d-8151-6652ce8ceb1c",
   "metadata": {
    "tags": []
   },
   "outputs": [
    {
     "data": {
      "text/plain": [
       "12251213"
      ]
     },
     "execution_count": 5,
     "metadata": {},
     "output_type": "execute_result"
    }
   ],
   "source": [
    "dd= [181470620,229428467,12632483,114354772,64063612,12251213]\n",
    "min(dd)\n",
    "#229428467\n",
    "#230000000\n",
    "12251213\n",
    "12000000"
   ]
  },
  {
   "cell_type": "code",
   "execution_count": 4,
   "id": "c917b4cd-0304-44d2-837d-360a9e009a98",
   "metadata": {
    "tags": []
   },
   "outputs": [
    {
     "data": {
      "text/plain": [
       "(6947684, 44572243)"
      ]
     },
     "execution_count": 4,
     "metadata": {},
     "output_type": "execute_result"
    }
   ],
   "source": [
    "min(data),max(data)\n",
    "6947684\n",
    "6900000\n",
    "44572243\n",
    "45000000"
   ]
  },
  {
   "cell_type": "code",
   "execution_count": 5,
   "id": "6e7179f9-7da7-41cb-82e3-5e5fe17c1ee4",
   "metadata": {
    "tags": []
   },
   "outputs": [],
   "source": [
    "from pyecharts.charts import Map  # 注意这里与老版本pyecharts调用的区别\n",
    "from pyecharts import options as opts\n",
    "import random\n",
    "country = ['China', 'United Kingdom', 'India', 'Japan', 'Australia']\n",
    "data = [6947684,23621956,44572243,21067544,10204195]\n",
    "dd= [181470620,229428467,12632483,114354772,64063612,12251213]\n",
    "data_world = [(country[i], data[i]) for i in range(0,len(country))]\n",
    "world = (\n",
    "    Map(init_opts=opts.InitOpts(bg_color=\"#FFFFFF\",theme=ThemeType.LIGHT))\n",
    "    .add('', # 此处没取名，所以空着\n",
    "    \tdata_world, # 数据\n",
    "    \t'world'\n",
    "        ) # 地图类型\n",
    "    .set_global_opts(\n",
    "        title_opts=opts.TitleOpts(title='World Map'),\n",
    "        visualmap_opts=opts.VisualMapOpts(\n",
    "            max_=45000000,\n",
    "            min_=6900000)\n",
    "    )\n",
    "    .set_series_opts(label_opts=opts.LabelOpts(is_show=False))\n",
    "    .render(path='世界地图2.html')\n",
    ")"
   ]
  },
  {
   "cell_type": "code",
   "execution_count": null,
   "id": "535db859-6a3f-426f-a321-e83b94f0e037",
   "metadata": {
    "tags": []
   },
   "outputs": [],
   "source": []
  },
  {
   "cell_type": "code",
   "execution_count": 6,
   "id": "dc1831c3-23ac-4b49-851a-f1955f035379",
   "metadata": {
    "tags": []
   },
   "outputs": [
    {
     "name": "stdout",
     "output_type": "stream",
     "text": [
      "Success\n"
     ]
    }
   ],
   "source": [
    "import pygal\n",
    "from pygal.style import Style\n",
    "# create a world map\n",
    "custom_style = Style( colors = ('#E18360' , '#D94F5D' ,\n",
    "                                '#51A3B9' , '#B4A05E','#9AB490',\n",
    "                                '#51A3B9'))\n",
    "worldmap =  pygal.maps.world.SupranationalWorld(style \n",
    "                                   = custom_style)\n",
    "  \n",
    "# set the title of map\n",
    "worldmap.title = 'Continents'\n",
    "country = ['China', 'United Kingdom', 'India', 'Japan', 'Australia']\n",
    "data = [6947684,23621956,44572243,21067544,10204195]\n",
    "#Area = ['Africa','']\n",
    "# adding the continents\n",
    "# worldmap.add('Africa', [('africa')])\n",
    "# worldmap.add('North america', [('north_america')])\n",
    "worldmap.add('Oceania', [('oceania')])\n",
    "# worldmap.add('South america', [('south_america')])\n",
    "# worldmap.add('Asia', [('asia')])\n",
    "# worldmap.add('Europe', [('europe')])\n",
    "#worldmap.add('Antartica', [('antartica')])\n",
    "  \n",
    "# save into the file\n",
    "worldmap.render_to_file('abc1.svg')\n",
    "  \n",
    "print(\"Success\")"
   ]
  },
  {
   "cell_type": "code",
   "execution_count": 10,
   "id": "5079b6fa-7ced-43a0-8649-4718ca0c7070",
   "metadata": {
    "tags": []
   },
   "outputs": [],
   "source": [
    "import pygal\n",
    "# importing World_map package \n",
    "from pygal.maps.world import World\n",
    "from pygal.style import Style\n",
    "# creating object\n",
    "worldmap_chart = pygal.maps.world.World()\n",
    "['China', 'United Kingdom', 'India', 'Japan', 'Australia','Korea']\n",
    "custom_style = Style( colors = ('#E18360' , '#D94F5D' ,\n",
    "                                '#51A3B9' , '#B4A05E','#9AB490',\n",
    "                                '#51A3B9'))\n",
    "supra = pygal.maps.world.SupranationalWorld(style = custom_style)\n",
    "country = ['China', 'United Kingdom', 'India', 'Japan', 'Australia']\n",
    "dd= [181470620,229428467,12632483,114354772,64063612,12251213]\n",
    "data = [6947684,23621956,44572243,21067544,10204195]\n",
    "# adding the values\n",
    "#supra.add('F countries', ['fr', 'fi'])\n",
    "# supra.add('Random Data', {\n",
    "#         'cn' : 1000000000,\n",
    "#         'us':181470620\n",
    "# })\n",
    "supra.add('Asia', [('asia', 181470620)])\n",
    "supra.add('Europe', [('europe', 229428467)])\n",
    "supra.add('Africa', [('africa', 12632483)])\n",
    "supra.add('North america', [('north_america', 114354772)])\n",
    "supra.add('South america', [('south_america', 64063612)])\n",
    "supra.add('Oceania', [('oceania', 12251213)])\n",
    "#supra.add('Antartica', [('antartica', 7)])\n",
    "# rendering the svgs\n",
    "supra.render_to_file('continents.svg')"
   ]
  },
  {
   "cell_type": "code",
   "execution_count": null,
   "id": "e72761c3-55f5-4278-ae83-33aa23d7a6a6",
   "metadata": {
    "tags": []
   },
   "outputs": [],
   "source": [
    "worldmap =  pygal.maps.world.World()\n",
    "# adding the countries\n",
    "worldmap.add('Country Data', {\n",
    "        'gb' : 23621956,\n",
    "        'in' : 44572243,\n",
    "        'jp' : 21067544,\n",
    "        'au' : 10204195,\n",
    "        'cn' : 6947684\n",
    "})\n",
    "# save into the file\n",
    "worldmap.render_to_file('abc.svg')"
   ]
  },
  {
   "cell_type": "code",
   "execution_count": null,
   "id": "c9bc7cf5-347d-4cc4-8003-7d47e3c970e4",
   "metadata": {
    "tags": []
   },
   "outputs": [],
   "source": [
    "from pygal_maps_world.i18n import COUNTRIES\n",
    "for country_code in sorted(COUNTRIES.keys()):\n",
    "    print(country_code, COUNTRIES[country_code])\n"
   ]
  },
  {
   "cell_type": "code",
   "execution_count": null,
   "id": "0acd8321-bed3-4b24-85ce-6ed8531b3e7b",
   "metadata": {
    "tags": []
   },
   "outputs": [],
   "source": [
    "from pyecharts import Map\n",
    "provice = ['北京','上海','河南','天津','山东','海南','辽宁','湖北','湖南','广西','广东']\n",
    "values = ['385','245','282','30','54','5','45','9','354','100','96']\n",
    "map = Map(\"中国地图\",width=1200, height=600)\n",
    "map.add(\"中国地图\", provice, values, visual_range=[0, 200], maptype='china', is_visualmap=True,\n",
    "visual_text_color='#600',is_label_show=True)\n",
    "map.render(path=\"中国地图.html\")\n",
    "#maptype='chain'表示绘制的是中国地图\n",
    "#provice存放的是省份名称,value存放的是每个省份对应的数值。\n",
    "#visual_range表示的热力的取值范围"
   ]
  },
  {
   "cell_type": "code",
   "execution_count": null,
   "id": "2a3a514d-f829-4c8f-8356-47e944a33f54",
   "metadata": {
    "tags": []
   },
   "outputs": [],
   "source": [
    "!pip uninstall pyecharts"
   ]
  },
  {
   "cell_type": "code",
   "execution_count": null,
   "id": "5d058dcf-a270-45b7-bd1f-677b86ba4c32",
   "metadata": {
    "tags": []
   },
   "outputs": [],
   "source": [
    "y"
   ]
  },
  {
   "cell_type": "code",
   "execution_count": null,
   "id": "9add2cc1-1ed3-4f4d-b5f9-2a7c6b9c656b",
   "metadata": {},
   "outputs": [],
   "source": []
  }
 ],
 "metadata": {
  "kernelspec": {
   "display_name": "Python 3 (ipykernel)",
   "language": "python",
   "name": "python3"
  },
  "language_info": {
   "codemirror_mode": {
    "name": "ipython",
    "version": 3
   },
   "file_extension": ".py",
   "mimetype": "text/x-python",
   "name": "python",
   "nbconvert_exporter": "python",
   "pygments_lexer": "ipython3",
   "version": "3.8.16"
  }
 },
 "nbformat": 4,
 "nbformat_minor": 5
}
