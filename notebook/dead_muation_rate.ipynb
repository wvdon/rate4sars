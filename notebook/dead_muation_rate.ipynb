{
 "cells": [
  {
   "cell_type": "code",
   "execution_count": 1,
   "metadata": {},
   "outputs": [
    {
     "name": "stderr",
     "output_type": "stream",
     "text": [
      "/home/wvdon/.conda/envs/pytorch/lib/python3.8/site-packages/scipy/__init__.py:146: UserWarning: A NumPy version >=1.16.5 and <1.23.0 is required for this version of SciPy (detected version 1.23.3\n",
      "  warnings.warn(f\"A NumPy version >={np_minversion} and <{np_maxversion}\"\n"
     ]
    }
   ],
   "source": [
    "import pandas as pd\n",
    "import seaborn as sns\n",
    "import matplotlib.pyplot as plt\n",
    "from datetime import timedelta\n",
    "from datetime import datetime\n",
    "from tqdm import tqdm\n",
    "import pandas\n",
    "import numpy as np"
   ]
  },
  {
   "cell_type": "code",
   "execution_count": 2,
   "metadata": {},
   "outputs": [],
   "source": [
    "path = '/media/wvdon/sdata/covid_evolution/data/DXYArea9_28.csv'"
   ]
  },
  {
   "cell_type": "code",
   "execution_count": 73,
   "metadata": {},
   "outputs": [],
   "source": [
    "data = pd.read_csv(path)"
   ]
  },
  {
   "cell_type": "code",
   "execution_count": 74,
   "metadata": {},
   "outputs": [
    {
     "data": {
      "text/html": [
       "<div>\n",
       "<style scoped>\n",
       "    .dataframe tbody tr th:only-of-type {\n",
       "        vertical-align: middle;\n",
       "    }\n",
       "\n",
       "    .dataframe tbody tr th {\n",
       "        vertical-align: top;\n",
       "    }\n",
       "\n",
       "    .dataframe thead th {\n",
       "        text-align: right;\n",
       "    }\n",
       "</style>\n",
       "<table border=\"1\" class=\"dataframe\">\n",
       "  <thead>\n",
       "    <tr style=\"text-align: right;\">\n",
       "      <th></th>\n",
       "      <th>continentName</th>\n",
       "      <th>continentEnglishName</th>\n",
       "      <th>countryName</th>\n",
       "      <th>countryEnglishName</th>\n",
       "      <th>provinceName</th>\n",
       "      <th>provinceEnglishName</th>\n",
       "      <th>province_zipCode</th>\n",
       "      <th>province_confirmedCount</th>\n",
       "      <th>province_suspectedCount</th>\n",
       "      <th>province_curedCount</th>\n",
       "      <th>province_deadCount</th>\n",
       "      <th>cityName</th>\n",
       "      <th>cityEnglishName</th>\n",
       "      <th>city_zipCode</th>\n",
       "      <th>city_confirmedCount</th>\n",
       "      <th>city_suspectedCount</th>\n",
       "      <th>city_curedCount</th>\n",
       "      <th>city_deadCount</th>\n",
       "      <th>updateTime</th>\n",
       "    </tr>\n",
       "  </thead>\n",
       "  <tbody>\n",
       "    <tr>\n",
       "      <th>0</th>\n",
       "      <td>亚洲</td>\n",
       "      <td>Asia</td>\n",
       "      <td>中国</td>\n",
       "      <td>China</td>\n",
       "      <td>广东省</td>\n",
       "      <td>Guangdong</td>\n",
       "      <td>440000</td>\n",
       "      <td>9933</td>\n",
       "      <td>25.0</td>\n",
       "      <td>9713</td>\n",
       "      <td>8</td>\n",
       "      <td>湛江</td>\n",
       "      <td>Zhanjiang</td>\n",
       "      <td>440800.0</td>\n",
       "      <td>318.0</td>\n",
       "      <td>2.0</td>\n",
       "      <td>142.0</td>\n",
       "      <td>0.0</td>\n",
       "      <td>2022-09-27 17:12:05</td>\n",
       "    </tr>\n",
       "    <tr>\n",
       "      <th>1</th>\n",
       "      <td>亚洲</td>\n",
       "      <td>Asia</td>\n",
       "      <td>中国</td>\n",
       "      <td>China</td>\n",
       "      <td>广东省</td>\n",
       "      <td>Guangdong</td>\n",
       "      <td>440000</td>\n",
       "      <td>9933</td>\n",
       "      <td>25.0</td>\n",
       "      <td>9713</td>\n",
       "      <td>8</td>\n",
       "      <td>广州</td>\n",
       "      <td>Guangzhou</td>\n",
       "      <td>440100.0</td>\n",
       "      <td>3558.0</td>\n",
       "      <td>3.0</td>\n",
       "      <td>3465.0</td>\n",
       "      <td>1.0</td>\n",
       "      <td>2022-09-27 17:12:05</td>\n",
       "    </tr>\n",
       "    <tr>\n",
       "      <th>2</th>\n",
       "      <td>亚洲</td>\n",
       "      <td>Asia</td>\n",
       "      <td>中国</td>\n",
       "      <td>China</td>\n",
       "      <td>广东省</td>\n",
       "      <td>Guangdong</td>\n",
       "      <td>440000</td>\n",
       "      <td>9933</td>\n",
       "      <td>25.0</td>\n",
       "      <td>9713</td>\n",
       "      <td>8</td>\n",
       "      <td>深圳</td>\n",
       "      <td>Shenzhen</td>\n",
       "      <td>440300.0</td>\n",
       "      <td>3725.0</td>\n",
       "      <td>3.0</td>\n",
       "      <td>3647.0</td>\n",
       "      <td>3.0</td>\n",
       "      <td>2022-09-27 17:12:05</td>\n",
       "    </tr>\n",
       "    <tr>\n",
       "      <th>3</th>\n",
       "      <td>亚洲</td>\n",
       "      <td>Asia</td>\n",
       "      <td>中国</td>\n",
       "      <td>China</td>\n",
       "      <td>广东省</td>\n",
       "      <td>Guangdong</td>\n",
       "      <td>440000</td>\n",
       "      <td>9933</td>\n",
       "      <td>25.0</td>\n",
       "      <td>9713</td>\n",
       "      <td>8</td>\n",
       "      <td>佛山</td>\n",
       "      <td>Foshan</td>\n",
       "      <td>440600.0</td>\n",
       "      <td>476.0</td>\n",
       "      <td>1.0</td>\n",
       "      <td>415.0</td>\n",
       "      <td>0.0</td>\n",
       "      <td>2022-09-27 17:12:05</td>\n",
       "    </tr>\n",
       "    <tr>\n",
       "      <th>4</th>\n",
       "      <td>亚洲</td>\n",
       "      <td>Asia</td>\n",
       "      <td>中国</td>\n",
       "      <td>China</td>\n",
       "      <td>广东省</td>\n",
       "      <td>Guangdong</td>\n",
       "      <td>440000</td>\n",
       "      <td>9933</td>\n",
       "      <td>25.0</td>\n",
       "      <td>9713</td>\n",
       "      <td>8</td>\n",
       "      <td>江门</td>\n",
       "      <td>Jiangmen</td>\n",
       "      <td>440700.0</td>\n",
       "      <td>173.0</td>\n",
       "      <td>0.0</td>\n",
       "      <td>113.0</td>\n",
       "      <td>0.0</td>\n",
       "      <td>2022-09-27 17:12:05</td>\n",
       "    </tr>\n",
       "  </tbody>\n",
       "</table>\n",
       "</div>"
      ],
      "text/plain": [
       "  continentName continentEnglishName countryName countryEnglishName  \\\n",
       "0            亚洲                 Asia          中国              China   \n",
       "1            亚洲                 Asia          中国              China   \n",
       "2            亚洲                 Asia          中国              China   \n",
       "3            亚洲                 Asia          中国              China   \n",
       "4            亚洲                 Asia          中国              China   \n",
       "\n",
       "  provinceName provinceEnglishName  province_zipCode  province_confirmedCount  \\\n",
       "0          广东省           Guangdong            440000                     9933   \n",
       "1          广东省           Guangdong            440000                     9933   \n",
       "2          广东省           Guangdong            440000                     9933   \n",
       "3          广东省           Guangdong            440000                     9933   \n",
       "4          广东省           Guangdong            440000                     9933   \n",
       "\n",
       "   province_suspectedCount  province_curedCount  province_deadCount cityName  \\\n",
       "0                     25.0                 9713                   8       湛江   \n",
       "1                     25.0                 9713                   8       广州   \n",
       "2                     25.0                 9713                   8       深圳   \n",
       "3                     25.0                 9713                   8       佛山   \n",
       "4                     25.0                 9713                   8       江门   \n",
       "\n",
       "  cityEnglishName  city_zipCode  city_confirmedCount  city_suspectedCount  \\\n",
       "0       Zhanjiang      440800.0                318.0                  2.0   \n",
       "1       Guangzhou      440100.0               3558.0                  3.0   \n",
       "2        Shenzhen      440300.0               3725.0                  3.0   \n",
       "3          Foshan      440600.0                476.0                  1.0   \n",
       "4        Jiangmen      440700.0                173.0                  0.0   \n",
       "\n",
       "   city_curedCount  city_deadCount           updateTime  \n",
       "0            142.0             0.0  2022-09-27 17:12:05  \n",
       "1           3465.0             1.0  2022-09-27 17:12:05  \n",
       "2           3647.0             3.0  2022-09-27 17:12:05  \n",
       "3            415.0             0.0  2022-09-27 17:12:05  \n",
       "4            113.0             0.0  2022-09-27 17:12:05  "
      ]
     },
     "execution_count": 74,
     "metadata": {},
     "output_type": "execute_result"
    }
   ],
   "source": [
    "data.head()"
   ]
  },
  {
   "cell_type": "code",
   "execution_count": 75,
   "metadata": {},
   "outputs": [],
   "source": [
    "date_start = datetime(2020, 1, 24, 0, 0)\n",
    "#date_end = datetime(2020, 2, 24, 0, 0)\n",
    "# pandas显示配置 方便调试\n",
    "# 显示所有列\n",
    "pd.set_option('display.max_columns', None)\n",
    "# 设置value的显示长度为100，默认为50\n",
    "pd.set_option('max_colwidth', 200)"
   ]
  },
  {
   "cell_type": "code",
   "execution_count": 76,
   "metadata": {},
   "outputs": [],
   "source": [
    "data['updateTime'] = pd.to_datetime(data['updateTime'])\n",
    "dataf = data.loc[(data['updateTime'] >= date_start), :]"
   ]
  },
  {
   "cell_type": "code",
   "execution_count": null,
   "metadata": {},
   "outputs": [],
   "source": []
  },
  {
   "cell_type": "code",
   "execution_count": 77,
   "metadata": {},
   "outputs": [],
   "source": [
    "#dataf = data.loc[(data['updateTime'] >= date_start), :]"
   ]
  },
  {
   "cell_type": "code",
   "execution_count": 78,
   "metadata": {},
   "outputs": [
    {
     "data": {
      "text/plain": [
       "1009502"
      ]
     },
     "execution_count": 78,
     "metadata": {},
     "output_type": "execute_result"
    }
   ],
   "source": [
    "len(dataf)"
   ]
  },
  {
   "cell_type": "code",
   "execution_count": 79,
   "metadata": {},
   "outputs": [
    {
     "data": {
      "text/html": [
       "<div>\n",
       "<style scoped>\n",
       "    .dataframe tbody tr th:only-of-type {\n",
       "        vertical-align: middle;\n",
       "    }\n",
       "\n",
       "    .dataframe tbody tr th {\n",
       "        vertical-align: top;\n",
       "    }\n",
       "\n",
       "    .dataframe thead th {\n",
       "        text-align: right;\n",
       "    }\n",
       "</style>\n",
       "<table border=\"1\" class=\"dataframe\">\n",
       "  <thead>\n",
       "    <tr style=\"text-align: right;\">\n",
       "      <th></th>\n",
       "      <th>continentName</th>\n",
       "      <th>continentEnglishName</th>\n",
       "      <th>countryName</th>\n",
       "      <th>countryEnglishName</th>\n",
       "      <th>provinceName</th>\n",
       "      <th>provinceEnglishName</th>\n",
       "      <th>province_zipCode</th>\n",
       "      <th>province_confirmedCount</th>\n",
       "      <th>province_suspectedCount</th>\n",
       "      <th>province_curedCount</th>\n",
       "      <th>province_deadCount</th>\n",
       "      <th>cityName</th>\n",
       "      <th>cityEnglishName</th>\n",
       "      <th>city_zipCode</th>\n",
       "      <th>city_confirmedCount</th>\n",
       "      <th>city_suspectedCount</th>\n",
       "      <th>city_curedCount</th>\n",
       "      <th>city_deadCount</th>\n",
       "      <th>updateTime</th>\n",
       "    </tr>\n",
       "  </thead>\n",
       "  <tbody>\n",
       "    <tr>\n",
       "      <th>0</th>\n",
       "      <td>亚洲</td>\n",
       "      <td>Asia</td>\n",
       "      <td>中国</td>\n",
       "      <td>China</td>\n",
       "      <td>广东省</td>\n",
       "      <td>Guangdong</td>\n",
       "      <td>440000</td>\n",
       "      <td>9933</td>\n",
       "      <td>25.0</td>\n",
       "      <td>9713</td>\n",
       "      <td>8</td>\n",
       "      <td>湛江</td>\n",
       "      <td>Zhanjiang</td>\n",
       "      <td>440800.0</td>\n",
       "      <td>318.0</td>\n",
       "      <td>2.0</td>\n",
       "      <td>142.0</td>\n",
       "      <td>0.0</td>\n",
       "      <td>2022-09-27 17:12:05</td>\n",
       "    </tr>\n",
       "    <tr>\n",
       "      <th>1</th>\n",
       "      <td>亚洲</td>\n",
       "      <td>Asia</td>\n",
       "      <td>中国</td>\n",
       "      <td>China</td>\n",
       "      <td>广东省</td>\n",
       "      <td>Guangdong</td>\n",
       "      <td>440000</td>\n",
       "      <td>9933</td>\n",
       "      <td>25.0</td>\n",
       "      <td>9713</td>\n",
       "      <td>8</td>\n",
       "      <td>广州</td>\n",
       "      <td>Guangzhou</td>\n",
       "      <td>440100.0</td>\n",
       "      <td>3558.0</td>\n",
       "      <td>3.0</td>\n",
       "      <td>3465.0</td>\n",
       "      <td>1.0</td>\n",
       "      <td>2022-09-27 17:12:05</td>\n",
       "    </tr>\n",
       "    <tr>\n",
       "      <th>2</th>\n",
       "      <td>亚洲</td>\n",
       "      <td>Asia</td>\n",
       "      <td>中国</td>\n",
       "      <td>China</td>\n",
       "      <td>广东省</td>\n",
       "      <td>Guangdong</td>\n",
       "      <td>440000</td>\n",
       "      <td>9933</td>\n",
       "      <td>25.0</td>\n",
       "      <td>9713</td>\n",
       "      <td>8</td>\n",
       "      <td>深圳</td>\n",
       "      <td>Shenzhen</td>\n",
       "      <td>440300.0</td>\n",
       "      <td>3725.0</td>\n",
       "      <td>3.0</td>\n",
       "      <td>3647.0</td>\n",
       "      <td>3.0</td>\n",
       "      <td>2022-09-27 17:12:05</td>\n",
       "    </tr>\n",
       "    <tr>\n",
       "      <th>3</th>\n",
       "      <td>亚洲</td>\n",
       "      <td>Asia</td>\n",
       "      <td>中国</td>\n",
       "      <td>China</td>\n",
       "      <td>广东省</td>\n",
       "      <td>Guangdong</td>\n",
       "      <td>440000</td>\n",
       "      <td>9933</td>\n",
       "      <td>25.0</td>\n",
       "      <td>9713</td>\n",
       "      <td>8</td>\n",
       "      <td>佛山</td>\n",
       "      <td>Foshan</td>\n",
       "      <td>440600.0</td>\n",
       "      <td>476.0</td>\n",
       "      <td>1.0</td>\n",
       "      <td>415.0</td>\n",
       "      <td>0.0</td>\n",
       "      <td>2022-09-27 17:12:05</td>\n",
       "    </tr>\n",
       "    <tr>\n",
       "      <th>4</th>\n",
       "      <td>亚洲</td>\n",
       "      <td>Asia</td>\n",
       "      <td>中国</td>\n",
       "      <td>China</td>\n",
       "      <td>广东省</td>\n",
       "      <td>Guangdong</td>\n",
       "      <td>440000</td>\n",
       "      <td>9933</td>\n",
       "      <td>25.0</td>\n",
       "      <td>9713</td>\n",
       "      <td>8</td>\n",
       "      <td>江门</td>\n",
       "      <td>Jiangmen</td>\n",
       "      <td>440700.0</td>\n",
       "      <td>173.0</td>\n",
       "      <td>0.0</td>\n",
       "      <td>113.0</td>\n",
       "      <td>0.0</td>\n",
       "      <td>2022-09-27 17:12:05</td>\n",
       "    </tr>\n",
       "    <tr>\n",
       "      <th>...</th>\n",
       "      <td>...</td>\n",
       "      <td>...</td>\n",
       "      <td>...</td>\n",
       "      <td>...</td>\n",
       "      <td>...</td>\n",
       "      <td>...</td>\n",
       "      <td>...</td>\n",
       "      <td>...</td>\n",
       "      <td>...</td>\n",
       "      <td>...</td>\n",
       "      <td>...</td>\n",
       "      <td>...</td>\n",
       "      <td>...</td>\n",
       "      <td>...</td>\n",
       "      <td>...</td>\n",
       "      <td>...</td>\n",
       "      <td>...</td>\n",
       "      <td>...</td>\n",
       "      <td>...</td>\n",
       "    </tr>\n",
       "    <tr>\n",
       "      <th>1009497</th>\n",
       "      <td>亚洲</td>\n",
       "      <td>Asia</td>\n",
       "      <td>中国</td>\n",
       "      <td>China</td>\n",
       "      <td>广西壮族自治区</td>\n",
       "      <td>Guangxi</td>\n",
       "      <td>450000</td>\n",
       "      <td>5</td>\n",
       "      <td>0.0</td>\n",
       "      <td>0</td>\n",
       "      <td>0</td>\n",
       "      <td>NaN</td>\n",
       "      <td>NaN</td>\n",
       "      <td>NaN</td>\n",
       "      <td>NaN</td>\n",
       "      <td>NaN</td>\n",
       "      <td>NaN</td>\n",
       "      <td>NaN</td>\n",
       "      <td>2020-01-24 03:25:57</td>\n",
       "    </tr>\n",
       "    <tr>\n",
       "      <th>1009498</th>\n",
       "      <td>亚洲</td>\n",
       "      <td>Asia</td>\n",
       "      <td>中国</td>\n",
       "      <td>China</td>\n",
       "      <td>云南省</td>\n",
       "      <td>Yunnan</td>\n",
       "      <td>530000</td>\n",
       "      <td>2</td>\n",
       "      <td>0.0</td>\n",
       "      <td>0</td>\n",
       "      <td>0</td>\n",
       "      <td>NaN</td>\n",
       "      <td>NaN</td>\n",
       "      <td>NaN</td>\n",
       "      <td>NaN</td>\n",
       "      <td>NaN</td>\n",
       "      <td>NaN</td>\n",
       "      <td>NaN</td>\n",
       "      <td>2020-01-24 03:25:57</td>\n",
       "    </tr>\n",
       "    <tr>\n",
       "      <th>1009499</th>\n",
       "      <td>亚洲</td>\n",
       "      <td>Asia</td>\n",
       "      <td>中国</td>\n",
       "      <td>China</td>\n",
       "      <td>江西省</td>\n",
       "      <td>Jiangxi</td>\n",
       "      <td>360000</td>\n",
       "      <td>7</td>\n",
       "      <td>0.0</td>\n",
       "      <td>0</td>\n",
       "      <td>0</td>\n",
       "      <td>NaN</td>\n",
       "      <td>NaN</td>\n",
       "      <td>NaN</td>\n",
       "      <td>NaN</td>\n",
       "      <td>NaN</td>\n",
       "      <td>NaN</td>\n",
       "      <td>NaN</td>\n",
       "      <td>2020-01-24 00:35:45</td>\n",
       "    </tr>\n",
       "    <tr>\n",
       "      <th>1009500</th>\n",
       "      <td>亚洲</td>\n",
       "      <td>Asia</td>\n",
       "      <td>中国</td>\n",
       "      <td>China</td>\n",
       "      <td>河北省</td>\n",
       "      <td>Hebei</td>\n",
       "      <td>130000</td>\n",
       "      <td>1</td>\n",
       "      <td>0.0</td>\n",
       "      <td>0</td>\n",
       "      <td>1</td>\n",
       "      <td>NaN</td>\n",
       "      <td>NaN</td>\n",
       "      <td>NaN</td>\n",
       "      <td>NaN</td>\n",
       "      <td>NaN</td>\n",
       "      <td>NaN</td>\n",
       "      <td>NaN</td>\n",
       "      <td>2020-01-24 00:34:44</td>\n",
       "    </tr>\n",
       "    <tr>\n",
       "      <th>1009501</th>\n",
       "      <td>亚洲</td>\n",
       "      <td>Asia</td>\n",
       "      <td>中国</td>\n",
       "      <td>China</td>\n",
       "      <td>云南省</td>\n",
       "      <td>Yunnan</td>\n",
       "      <td>530000</td>\n",
       "      <td>2</td>\n",
       "      <td>0.0</td>\n",
       "      <td>0</td>\n",
       "      <td>0</td>\n",
       "      <td>NaN</td>\n",
       "      <td>NaN</td>\n",
       "      <td>NaN</td>\n",
       "      <td>NaN</td>\n",
       "      <td>NaN</td>\n",
       "      <td>NaN</td>\n",
       "      <td>NaN</td>\n",
       "      <td>2020-01-24 00:30:40</td>\n",
       "    </tr>\n",
       "  </tbody>\n",
       "</table>\n",
       "<p>1009502 rows × 19 columns</p>\n",
       "</div>"
      ],
      "text/plain": [
       "        continentName continentEnglishName countryName countryEnglishName  \\\n",
       "0                  亚洲                 Asia          中国              China   \n",
       "1                  亚洲                 Asia          中国              China   \n",
       "2                  亚洲                 Asia          中国              China   \n",
       "3                  亚洲                 Asia          中国              China   \n",
       "4                  亚洲                 Asia          中国              China   \n",
       "...               ...                  ...         ...                ...   \n",
       "1009497            亚洲                 Asia          中国              China   \n",
       "1009498            亚洲                 Asia          中国              China   \n",
       "1009499            亚洲                 Asia          中国              China   \n",
       "1009500            亚洲                 Asia          中国              China   \n",
       "1009501            亚洲                 Asia          中国              China   \n",
       "\n",
       "        provinceName provinceEnglishName  province_zipCode  \\\n",
       "0                广东省           Guangdong            440000   \n",
       "1                广东省           Guangdong            440000   \n",
       "2                广东省           Guangdong            440000   \n",
       "3                广东省           Guangdong            440000   \n",
       "4                广东省           Guangdong            440000   \n",
       "...              ...                 ...               ...   \n",
       "1009497      广西壮族自治区             Guangxi            450000   \n",
       "1009498          云南省              Yunnan            530000   \n",
       "1009499          江西省             Jiangxi            360000   \n",
       "1009500          河北省               Hebei            130000   \n",
       "1009501          云南省              Yunnan            530000   \n",
       "\n",
       "         province_confirmedCount  province_suspectedCount  \\\n",
       "0                           9933                     25.0   \n",
       "1                           9933                     25.0   \n",
       "2                           9933                     25.0   \n",
       "3                           9933                     25.0   \n",
       "4                           9933                     25.0   \n",
       "...                          ...                      ...   \n",
       "1009497                        5                      0.0   \n",
       "1009498                        2                      0.0   \n",
       "1009499                        7                      0.0   \n",
       "1009500                        1                      0.0   \n",
       "1009501                        2                      0.0   \n",
       "\n",
       "         province_curedCount  province_deadCount cityName cityEnglishName  \\\n",
       "0                       9713                   8       湛江       Zhanjiang   \n",
       "1                       9713                   8       广州       Guangzhou   \n",
       "2                       9713                   8       深圳        Shenzhen   \n",
       "3                       9713                   8       佛山          Foshan   \n",
       "4                       9713                   8       江门        Jiangmen   \n",
       "...                      ...                 ...      ...             ...   \n",
       "1009497                    0                   0      NaN             NaN   \n",
       "1009498                    0                   0      NaN             NaN   \n",
       "1009499                    0                   0      NaN             NaN   \n",
       "1009500                    0                   1      NaN             NaN   \n",
       "1009501                    0                   0      NaN             NaN   \n",
       "\n",
       "         city_zipCode  city_confirmedCount  city_suspectedCount  \\\n",
       "0            440800.0                318.0                  2.0   \n",
       "1            440100.0               3558.0                  3.0   \n",
       "2            440300.0               3725.0                  3.0   \n",
       "3            440600.0                476.0                  1.0   \n",
       "4            440700.0                173.0                  0.0   \n",
       "...               ...                  ...                  ...   \n",
       "1009497           NaN                  NaN                  NaN   \n",
       "1009498           NaN                  NaN                  NaN   \n",
       "1009499           NaN                  NaN                  NaN   \n",
       "1009500           NaN                  NaN                  NaN   \n",
       "1009501           NaN                  NaN                  NaN   \n",
       "\n",
       "         city_curedCount  city_deadCount          updateTime  \n",
       "0                  142.0             0.0 2022-09-27 17:12:05  \n",
       "1                 3465.0             1.0 2022-09-27 17:12:05  \n",
       "2                 3647.0             3.0 2022-09-27 17:12:05  \n",
       "3                  415.0             0.0 2022-09-27 17:12:05  \n",
       "4                  113.0             0.0 2022-09-27 17:12:05  \n",
       "...                  ...             ...                 ...  \n",
       "1009497              NaN             NaN 2020-01-24 03:25:57  \n",
       "1009498              NaN             NaN 2020-01-24 03:25:57  \n",
       "1009499              NaN             NaN 2020-01-24 00:35:45  \n",
       "1009500              NaN             NaN 2020-01-24 00:34:44  \n",
       "1009501              NaN             NaN 2020-01-24 00:30:40  \n",
       "\n",
       "[1009502 rows x 19 columns]"
      ]
     },
     "execution_count": 79,
     "metadata": {},
     "output_type": "execute_result"
    }
   ],
   "source": [
    "dataf"
   ]
  },
  {
   "cell_type": "code",
   "execution_count": 80,
   "metadata": {},
   "outputs": [
    {
     "name": "stderr",
     "output_type": "stream",
     "text": [
      "/tmp/ipykernel_3154604/2663590480.py:1: SettingWithCopyWarning: \n",
      "A value is trying to be set on a copy of a slice from a DataFrame.\n",
      "Try using .loc[row_indexer,col_indexer] = value instead\n",
      "\n",
      "See the caveats in the documentation: https://pandas.pydata.org/pandas-docs/stable/user_guide/indexing.html#returning-a-view-versus-a-copy\n",
      "  dataf['updateTime'] = dataf['updateTime'] + timedelta(hours=3)\n",
      "/tmp/ipykernel_3154604/2663590480.py:2: SettingWithCopyWarning: \n",
      "A value is trying to be set on a copy of a slice from a DataFrame.\n",
      "Try using .loc[row_indexer,col_indexer] = value instead\n",
      "\n",
      "See the caveats in the documentation: https://pandas.pydata.org/pandas-docs/stable/user_guide/indexing.html#returning-a-view-versus-a-copy\n",
      "  dataf['date'] = dataf['updateTime'].apply(lambda x: x.strftime('%Y-%m-%d'))\n",
      "/tmp/ipykernel_3154604/2663590480.py:3: SettingWithCopyWarning: \n",
      "A value is trying to be set on a copy of a slice from a DataFrame.\n",
      "Try using .loc[row_indexer,col_indexer] = value instead\n",
      "\n",
      "See the caveats in the documentation: https://pandas.pydata.org/pandas-docs/stable/user_guide/indexing.html#returning-a-view-versus-a-copy\n",
      "  dataf['date'] = pd.to_datetime(dataf['date'])\n"
     ]
    }
   ],
   "source": [
    "dataf['updateTime'] = dataf['updateTime'] + timedelta(hours=3)\n",
    "dataf['date'] = dataf['updateTime'].apply(lambda x: x.strftime('%Y-%m-%d'))\n",
    "dataf['date'] = pd.to_datetime(dataf['date'])"
   ]
  },
  {
   "cell_type": "code",
   "execution_count": 81,
   "metadata": {},
   "outputs": [],
   "source": [
    "df = pd.DataFrame(index=None)\n",
    "df_t = dataf['date']\n",
    "df_date = df_t.drop_duplicates()  # 去重 返回Series对象\n",
    "df_date = df_date.sort_values()"
   ]
  },
  {
   "cell_type": "code",
   "execution_count": 82,
   "metadata": {},
   "outputs": [],
   "source": [
    "df_china = dataf[dataf['provinceName'].str.contains('中国')]"
   ]
  },
  {
   "cell_type": "code",
   "execution_count": 83,
   "metadata": {},
   "outputs": [
    {
     "data": {
      "text/plain": [
       "1008598   2020-01-24\n",
       "1007516   2020-01-25\n",
       "1006685   2020-01-26\n",
       "1005564   2020-01-27\n",
       "1004713   2020-01-28\n",
       "             ...    \n",
       "5699      2022-09-23\n",
       "3929      2022-09-24\n",
       "2527      2022-09-25\n",
       "1116      2022-09-26\n",
       "0         2022-09-27\n",
       "Name: date, Length: 911, dtype: datetime64[ns]"
      ]
     },
     "execution_count": 83,
     "metadata": {},
     "output_type": "execute_result"
    }
   ],
   "source": [
    "df_date"
   ]
  },
  {
   "cell_type": "code",
   "execution_count": null,
   "metadata": {},
   "outputs": [],
   "source": []
  },
  {
   "cell_type": "code",
   "execution_count": 14,
   "metadata": {},
   "outputs": [
    {
     "name": "stderr",
     "output_type": "stream",
     "text": [
      "100%|██████████| 911/911 [00:00<00:00, 1476.54it/s]\n"
     ]
    }
   ],
   "source": [
    "date_list = []\n",
    "count_list = []\n",
    "for dt in tqdm(df_date):\n",
    "    #print(str(dt)[:10])&(df_china['updateTime'] == df_china['updateTime'].max()\n",
    "    select_date = df_china[df_china['date']==dt]\n",
    "    select_date = select_date.loc[(select_date['updateTime'] == select_date['updateTime'].max()),:]\n",
    "    if len(select_date)!=0:\n",
    "        date_list.append(dt)\n",
    "        count_list.append(select_date.iloc[0]['province_confirmedCount'])\n",
    "        #print(select_date['province_confirmedCount'])"
   ]
  },
  {
   "cell_type": "code",
   "execution_count": 15,
   "metadata": {},
   "outputs": [],
   "source": [
    "#date_list"
   ]
  },
  {
   "cell_type": "code",
   "execution_count": 16,
   "metadata": {},
   "outputs": [],
   "source": [
    "#count_list"
   ]
  },
  {
   "cell_type": "code",
   "execution_count": 17,
   "metadata": {},
   "outputs": [
    {
     "data": {
      "text/plain": [
       "DatetimeIndex(['2020-04-17', '2020-03-26', '2020-03-30', '2020-03-24',\n",
       "               '2021-08-01', '2020-04-04', '2020-04-11', '2022-05-13',\n",
       "               '2022-06-06', '2021-08-16',\n",
       "               ...\n",
       "               '2020-12-12', '2021-06-12', '2021-06-21', '2020-07-10',\n",
       "               '2020-03-21', '2020-07-15', '2022-05-09', '2022-04-19',\n",
       "               '2022-04-11', '2020-03-15'],\n",
       "              dtype='datetime64[ns]', length=859, freq=None)"
      ]
     },
     "execution_count": 17,
     "metadata": {},
     "output_type": "execute_result"
    }
   ],
   "source": [
    "df_china['date'].value_counts().index"
   ]
  },
  {
   "cell_type": "code",
   "execution_count": 18,
   "metadata": {},
   "outputs": [
    {
     "data": {
      "text/plain": [
       "<pandas.core.groupby.generic.DataFrameGroupBy object at 0x7f786bca03d0>"
      ]
     },
     "execution_count": 18,
     "metadata": {},
     "output_type": "execute_result"
    }
   ],
   "source": [
    "df_china.groupby('date')"
   ]
  },
  {
   "cell_type": "code",
   "execution_count": 19,
   "metadata": {},
   "outputs": [
    {
     "data": {
      "text/html": [
       "<div>\n",
       "<style scoped>\n",
       "    .dataframe tbody tr th:only-of-type {\n",
       "        vertical-align: middle;\n",
       "    }\n",
       "\n",
       "    .dataframe tbody tr th {\n",
       "        vertical-align: top;\n",
       "    }\n",
       "\n",
       "    .dataframe thead th {\n",
       "        text-align: right;\n",
       "    }\n",
       "</style>\n",
       "<table border=\"1\" class=\"dataframe\">\n",
       "  <thead>\n",
       "    <tr style=\"text-align: right;\">\n",
       "      <th></th>\n",
       "      <th>continentName</th>\n",
       "      <th>continentEnglishName</th>\n",
       "      <th>countryName</th>\n",
       "      <th>countryEnglishName</th>\n",
       "      <th>provinceName</th>\n",
       "      <th>provinceEnglishName</th>\n",
       "      <th>province_zipCode</th>\n",
       "      <th>province_confirmedCount</th>\n",
       "      <th>province_suspectedCount</th>\n",
       "      <th>province_curedCount</th>\n",
       "      <th>province_deadCount</th>\n",
       "      <th>cityName</th>\n",
       "      <th>cityEnglishName</th>\n",
       "      <th>city_zipCode</th>\n",
       "      <th>city_confirmedCount</th>\n",
       "      <th>city_suspectedCount</th>\n",
       "      <th>city_curedCount</th>\n",
       "      <th>city_deadCount</th>\n",
       "      <th>updateTime</th>\n",
       "      <th>date</th>\n",
       "    </tr>\n",
       "  </thead>\n",
       "  <tbody>\n",
       "    <tr>\n",
       "      <th>48</th>\n",
       "      <td>亚洲</td>\n",
       "      <td>Asia</td>\n",
       "      <td>中国</td>\n",
       "      <td>China</td>\n",
       "      <td>中国</td>\n",
       "      <td>China</td>\n",
       "      <td>951001</td>\n",
       "      <td>6987963</td>\n",
       "      <td>0.0</td>\n",
       "      <td>339982</td>\n",
       "      <td>26272</td>\n",
       "      <td>NaN</td>\n",
       "      <td>NaN</td>\n",
       "      <td>NaN</td>\n",
       "      <td>NaN</td>\n",
       "      <td>NaN</td>\n",
       "      <td>NaN</td>\n",
       "      <td>NaN</td>\n",
       "      <td>2022-09-27 19:58:55</td>\n",
       "      <td>2022-09-27</td>\n",
       "    </tr>\n",
       "  </tbody>\n",
       "</table>\n",
       "</div>"
      ],
      "text/plain": [
       "   continentName continentEnglishName countryName countryEnglishName  \\\n",
       "48            亚洲                 Asia          中国              China   \n",
       "\n",
       "   provinceName provinceEnglishName  province_zipCode  \\\n",
       "48           中国               China            951001   \n",
       "\n",
       "    province_confirmedCount  province_suspectedCount  province_curedCount  \\\n",
       "48                  6987963                      0.0               339982   \n",
       "\n",
       "    province_deadCount cityName cityEnglishName  city_zipCode  \\\n",
       "48               26272      NaN             NaN           NaN   \n",
       "\n",
       "    city_confirmedCount  city_suspectedCount  city_curedCount  city_deadCount  \\\n",
       "48                  NaN                  NaN              NaN             NaN   \n",
       "\n",
       "            updateTime       date  \n",
       "48 2022-09-27 19:58:55 2022-09-27  "
      ]
     },
     "execution_count": 19,
     "metadata": {},
     "output_type": "execute_result"
    }
   ],
   "source": [
    "df_china.loc[(df_china['updateTime'] == df_china['updateTime'].max()),: ]"
   ]
  },
  {
   "cell_type": "code",
   "execution_count": 20,
   "metadata": {},
   "outputs": [
    {
     "data": {
      "text/plain": [
       "6346"
      ]
     },
     "execution_count": 20,
     "metadata": {},
     "output_type": "execute_result"
    }
   ],
   "source": [
    "len(df_china[df_china['provinceName']=='中国'])"
   ]
  },
  {
   "cell_type": "code",
   "execution_count": 21,
   "metadata": {},
   "outputs": [],
   "source": [
    "df_china_p = df_china[df_china['provinceName']=='中国']"
   ]
  },
  {
   "cell_type": "code",
   "execution_count": 22,
   "metadata": {},
   "outputs": [
    {
     "data": {
      "text/plain": [
       "2020-04-17    23\n",
       "2020-03-26    23\n",
       "2020-03-30    23\n",
       "2020-03-24    22\n",
       "2021-08-01    22\n",
       "              ..\n",
       "2020-07-15     1\n",
       "2022-05-09     1\n",
       "2022-04-19     1\n",
       "2022-04-11     1\n",
       "2020-03-15     1\n",
       "Name: date, Length: 859, dtype: int64"
      ]
     },
     "execution_count": 22,
     "metadata": {},
     "output_type": "execute_result"
    }
   ],
   "source": [
    "df_china_p['date'].value_counts()"
   ]
  },
  {
   "cell_type": "code",
   "execution_count": 23,
   "metadata": {},
   "outputs": [
    {
     "data": {
      "text/plain": [
       "911"
      ]
     },
     "execution_count": 23,
     "metadata": {},
     "output_type": "execute_result"
    }
   ],
   "source": [
    "len(df_date)"
   ]
  },
  {
   "cell_type": "code",
   "execution_count": 24,
   "metadata": {},
   "outputs": [
    {
     "data": {
      "text/plain": [
       "0              广东省\n",
       "1              广东省\n",
       "2              广东省\n",
       "3              广东省\n",
       "4              广东省\n",
       "            ...   \n",
       "1009497    广西壮族自治区\n",
       "1009498        云南省\n",
       "1009499        江西省\n",
       "1009500        河北省\n",
       "1009501        云南省\n",
       "Name: provinceName, Length: 1009502, dtype: object"
      ]
     },
     "execution_count": 24,
     "metadata": {},
     "output_type": "execute_result"
    }
   ],
   "source": [
    "df_city = dataf['provinceName']\n",
    "df_city"
   ]
  },
  {
   "cell_type": "code",
   "execution_count": 84,
   "metadata": {},
   "outputs": [],
   "source": [
    "# 提取省列表\n",
    "df_c = dataf['countryName']\n",
    "df_country = df_c.drop_duplicates()\n",
    "df_province = dataf['provinceName'].drop_duplicates()"
   ]
  },
  {
   "cell_type": "code",
   "execution_count": 85,
   "metadata": {},
   "outputs": [
    {
     "data": {
      "text/plain": [
       "223"
      ]
     },
     "execution_count": 85,
     "metadata": {},
     "output_type": "execute_result"
    }
   ],
   "source": [
    "len(df_country)"
   ]
  },
  {
   "cell_type": "code",
   "execution_count": 86,
   "metadata": {},
   "outputs": [],
   "source": [
    "df_count_area = dataf[['countryName','continentEnglishName']]\n",
    "drop_area = df_count_area.drop_duplicates().dropna()"
   ]
  },
  {
   "cell_type": "code",
   "execution_count": 87,
   "metadata": {},
   "outputs": [
    {
     "data": {
      "text/html": [
       "<div>\n",
       "<style scoped>\n",
       "    .dataframe tbody tr th:only-of-type {\n",
       "        vertical-align: middle;\n",
       "    }\n",
       "\n",
       "    .dataframe tbody tr th {\n",
       "        vertical-align: top;\n",
       "    }\n",
       "\n",
       "    .dataframe thead th {\n",
       "        text-align: right;\n",
       "    }\n",
       "</style>\n",
       "<table border=\"1\" class=\"dataframe\">\n",
       "  <thead>\n",
       "    <tr style=\"text-align: right;\">\n",
       "      <th></th>\n",
       "      <th>countryName</th>\n",
       "      <th>continentEnglishName</th>\n",
       "    </tr>\n",
       "  </thead>\n",
       "  <tbody>\n",
       "    <tr>\n",
       "      <th>0</th>\n",
       "      <td>中国</td>\n",
       "      <td>Asia</td>\n",
       "    </tr>\n",
       "    <tr>\n",
       "      <th>41</th>\n",
       "      <td>日本</td>\n",
       "      <td>Asia</td>\n",
       "    </tr>\n",
       "    <tr>\n",
       "      <th>42</th>\n",
       "      <td>塞尔维亚</td>\n",
       "      <td>Europe</td>\n",
       "    </tr>\n",
       "    <tr>\n",
       "      <th>43</th>\n",
       "      <td>以色列</td>\n",
       "      <td>Asia</td>\n",
       "    </tr>\n",
       "    <tr>\n",
       "      <th>44</th>\n",
       "      <td>美国</td>\n",
       "      <td>North America</td>\n",
       "    </tr>\n",
       "    <tr>\n",
       "      <th>...</th>\n",
       "      <td>...</td>\n",
       "      <td>...</td>\n",
       "    </tr>\n",
       "    <tr>\n",
       "      <th>936941</th>\n",
       "      <td>巴拿马</td>\n",
       "      <td>Others</td>\n",
       "    </tr>\n",
       "    <tr>\n",
       "      <th>937779</th>\n",
       "      <td>至尊公主邮轮</td>\n",
       "      <td>Others</td>\n",
       "    </tr>\n",
       "    <tr>\n",
       "      <th>947856</th>\n",
       "      <td>大不列颠及北爱尔兰联合王国</td>\n",
       "      <td>Europe</td>\n",
       "    </tr>\n",
       "    <tr>\n",
       "      <th>948340</th>\n",
       "      <td>英国（含北爱尔兰）</td>\n",
       "      <td>Europe</td>\n",
       "    </tr>\n",
       "    <tr>\n",
       "      <th>949140</th>\n",
       "      <td>北爱尔兰</td>\n",
       "      <td>Europe</td>\n",
       "    </tr>\n",
       "  </tbody>\n",
       "</table>\n",
       "<p>229 rows × 2 columns</p>\n",
       "</div>"
      ],
      "text/plain": [
       "          countryName continentEnglishName\n",
       "0                  中国                 Asia\n",
       "41                 日本                 Asia\n",
       "42               塞尔维亚               Europe\n",
       "43                以色列                 Asia\n",
       "44                 美国        North America\n",
       "...               ...                  ...\n",
       "936941            巴拿马               Others\n",
       "937779         至尊公主邮轮               Others\n",
       "947856  大不列颠及北爱尔兰联合王国               Europe\n",
       "948340      英国（含北爱尔兰）               Europe\n",
       "949140           北爱尔兰               Europe\n",
       "\n",
       "[229 rows x 2 columns]"
      ]
     },
     "execution_count": 87,
     "metadata": {},
     "output_type": "execute_result"
    }
   ],
   "source": [
    "drop_area"
   ]
  },
  {
   "cell_type": "code",
   "execution_count": 27,
   "metadata": {},
   "outputs": [],
   "source": [
    "# dt = ''\n",
    "# for date_t in df_date[:1]:\n",
    "#     dt = date_t\n",
    "#     for name in df_province[:1]:\n",
    "#         print(name)\n",
    "#         df1 = dataf.loc[(dataf['provinceName'].str.contains(name)) & (dataf['date'] == date_t), :]\n",
    "#         #print(df1)"
   ]
  },
  {
   "cell_type": "code",
   "execution_count": 28,
   "metadata": {},
   "outputs": [],
   "source": [
    "#df1 = dataf.loc[(dataf['provinceName'].str.contains('广东省')) & (dataf['date'] == dt), :]"
   ]
  },
  {
   "cell_type": "code",
   "execution_count": 29,
   "metadata": {},
   "outputs": [],
   "source": [
    "#df2 = dataf.loc[(dataf['countryName'].str.contains('中国')) & (dataf['date'] == dt), :]"
   ]
  },
  {
   "cell_type": "code",
   "execution_count": 30,
   "metadata": {},
   "outputs": [],
   "source": [
    "#df2#.loc[(df2['updateTime'] == df2['updateTime'].max()), :] "
   ]
  },
  {
   "cell_type": "code",
   "execution_count": 31,
   "metadata": {},
   "outputs": [],
   "source": [
    "#export done\n",
    "# for date_t in tqdm(df_date):\n",
    "#     dataf.loc[dataf['date'] == date_t,:].to_csv(f'/media/wvdon/sdata/covid_evolution/data/all/{str(date_t)[:10]}.csv')"
   ]
  },
  {
   "cell_type": "code",
   "execution_count": 103,
   "metadata": {},
   "outputs": [
    {
     "data": {
      "text/plain": [
       "0                    中国\n",
       "41                   日本\n",
       "42                 塞尔维亚\n",
       "43                  以色列\n",
       "44                   美国\n",
       "              ...      \n",
       "928594              留尼汪\n",
       "937779           至尊公主邮轮\n",
       "947856    大不列颠及北爱尔兰联合王国\n",
       "948340        英国（含北爱尔兰）\n",
       "949140             北爱尔兰\n",
       "Name: countryName, Length: 223, dtype: object"
      ]
     },
     "execution_count": 103,
     "metadata": {},
     "output_type": "execute_result"
    }
   ],
   "source": [
    "df_country"
   ]
  },
  {
   "cell_type": "code",
   "execution_count": 113,
   "metadata": {},
   "outputs": [],
   "source": [
    "dict_country = {}\n",
    "for i in range(len(drop_area)):\n",
    "    dict_country[drop_area.iloc[i]['countryName']]=drop_area.iloc[i]['continentEnglishName']"
   ]
  },
  {
   "cell_type": "code",
   "execution_count": 114,
   "metadata": {},
   "outputs": [
    {
     "data": {
      "text/plain": [
       "{'中国': 'Asia',\n",
       " '日本': 'Asia',\n",
       " '塞尔维亚': 'Europe',\n",
       " '以色列': 'Asia',\n",
       " '美国': 'North America',\n",
       " '黑山': 'Europe',\n",
       " '泰国': 'Asia',\n",
       " '韩国': 'Asia',\n",
       " '意大利': 'Europe',\n",
       " '俄罗斯': 'Europe',\n",
       " '奥地利': 'Europe',\n",
       " '伊朗': 'Asia',\n",
       " '智利': 'South America',\n",
       " '斯洛伐克': 'Europe',\n",
       " '伊拉克': 'Asia',\n",
       " '乌克兰': 'Europe',\n",
       " '印度': 'Asia',\n",
       " '哈萨克斯坦': 'Asia',\n",
       " '罗马尼亚': 'Europe',\n",
       " '斯洛文尼亚': 'Europe',\n",
       " '危地马拉': 'North America',\n",
       " '约旦': 'Asia',\n",
       " '越南': 'Asia',\n",
       " '立陶宛': 'Europe',\n",
       " '玻利维亚': 'South America',\n",
       " '克罗地亚': 'Europe',\n",
       " '阿塞拜疆': 'Asia',\n",
       " '加拿大': 'North America',\n",
       " '秘鲁': 'South America',\n",
       " '孟加拉国': 'Asia',\n",
       " '马来西亚': 'Asia',\n",
       " '阿根廷': 'South America',\n",
       " '保加利亚': 'Europe',\n",
       " '巴勒斯坦': 'Asia',\n",
       " '摩洛哥': 'Africa',\n",
       " '巴基斯坦': 'Asia',\n",
       " '阿联酋': 'Asia',\n",
       " '沙特阿拉伯': 'Asia',\n",
       " '毛里求斯': 'Africa',\n",
       " '利比亚': 'Africa',\n",
       " '亚美尼亚': 'Asia',\n",
       " '波兰': 'Europe',\n",
       " '菲律宾': 'Asia',\n",
       " '巴林': 'Asia',\n",
       " '澳大利亚': 'Oceania',\n",
       " '博茨瓦纳': 'Africa',\n",
       " '埃塞俄比亚': 'Africa',\n",
       " '阿尔巴尼亚': 'Europe',\n",
       " '黎巴嫩': 'Asia',\n",
       " '哥斯达黎加': 'North America',\n",
       " '缅甸': 'Asia',\n",
       " '巴巴多斯': 'North America',\n",
       " '古巴': 'North America',\n",
       " '肯尼亚': 'Africa',\n",
       " '阿富汗': 'Asia',\n",
       " '斯威士兰': 'Africa',\n",
       " '布隆迪共和国': 'Africa',\n",
       " '圭亚那': 'South America',\n",
       " '乌兹别克斯坦': 'Asia',\n",
       " '安哥拉': 'Africa',\n",
       " '关岛': 'North America',\n",
       " '马尔代夫': 'Asia',\n",
       " '蒙古': 'Asia',\n",
       " '挪威': 'Europe',\n",
       " '叙利亚': 'Asia',\n",
       " '吉尔吉斯斯坦': 'Asia',\n",
       " '卢森堡': 'Europe',\n",
       " '科特迪瓦': 'Africa',\n",
       " '佛得角': 'Africa',\n",
       " '洪都拉斯': 'North America',\n",
       " '马达加斯加': 'Africa',\n",
       " '印度尼西亚': 'Asia',\n",
       " '尼泊尔': 'Asia',\n",
       " '马里': 'Africa',\n",
       " '波黑': 'Europe',\n",
       " '百慕大': 'North America',\n",
       " '多哥': 'Africa',\n",
       " '塞内加尔': 'Africa',\n",
       " '也门共和国': 'Asia',\n",
       " '中非共和国': 'Africa',\n",
       " '老挝': 'Asia',\n",
       " '新加坡': 'Asia',\n",
       " '牙买加': 'North America',\n",
       " '东帝汶': 'Asia',\n",
       " '巴布亚新几内亚': 'Oceania',\n",
       " '津巴布韦': 'Africa',\n",
       " '阿尔及利亚': 'Africa',\n",
       " '冈比亚': 'Africa',\n",
       " '柬埔寨': 'Asia',\n",
       " '圣卢西亚': 'South America',\n",
       " '马耳他': 'Europe',\n",
       " '圣马力诺': 'Europe',\n",
       " '斯里兰卡': 'Asia',\n",
       " '土耳其': 'Asia',\n",
       " '捷克': 'Europe',\n",
       " '墨西哥': 'North America',\n",
       " '委内瑞拉': 'South America',\n",
       " '尼日利亚': 'Africa',\n",
       " '巴哈马': 'North America',\n",
       " '毛里塔尼亚': 'Africa',\n",
       " '卡塔尔': 'Asia',\n",
       " '格林那达': 'North America',\n",
       " '摩纳哥': 'Europe',\n",
       " '蒙特塞拉特': 'North America',\n",
       " '比利时': 'Europe',\n",
       " '赞比亚共和国': 'Africa',\n",
       " '法国': 'Europe',\n",
       " '德国': 'Europe',\n",
       " '西班牙': 'Europe',\n",
       " '荷兰': 'Europe',\n",
       " '丹麦': 'Europe',\n",
       " '巴西': 'South America',\n",
       " '葡萄牙': 'Europe',\n",
       " '拉脱维亚': 'Europe',\n",
       " '巴拉圭': 'South America',\n",
       " '伯利兹': 'North America',\n",
       " '马拉维': 'Africa',\n",
       " '加蓬': 'Africa',\n",
       " '赤道几内亚': 'Africa',\n",
       " '北马其顿': 'Europe',\n",
       " '英国': 'Europe',\n",
       " '瑞士': 'Europe',\n",
       " '瑞典': 'Europe',\n",
       " '波多黎各': 'North America',\n",
       " '留尼旺': 'Africa',\n",
       " '泽西岛': 'Europe',\n",
       " '塞浦路斯': 'Asia',\n",
       " '哥伦比亚': 'South America',\n",
       " '马约特': 'Africa',\n",
       " '海地': 'North America',\n",
       " '斐济': 'Oceania',\n",
       " '直布罗陀': 'Europe',\n",
       " '希腊': 'Europe',\n",
       " '爱尔兰': 'Europe',\n",
       " '格鲁吉亚': 'Europe',\n",
       " '巴拿马': 'Others',\n",
       " '多米尼加': 'North America',\n",
       " '乌拉圭': 'South America',\n",
       " '新西兰': 'Oceania',\n",
       " '摩尔多瓦': 'Europe',\n",
       " '文莱': 'Asia',\n",
       " '特立尼达和多巴哥': 'North America',\n",
       " '阿曼': 'Asia',\n",
       " '芬兰': 'Europe',\n",
       " '萨尔瓦多': 'North America',\n",
       " '刚果（金）': 'Africa',\n",
       " '新喀里多尼亚': 'Oceania',\n",
       " '纳米比亚': 'Africa',\n",
       " '库拉索岛': 'North America',\n",
       " '坦桑尼亚': 'Africa',\n",
       " '匈牙利': 'Europe',\n",
       " '根西岛': 'Europe',\n",
       " '厄瓜多尔': 'South America',\n",
       " '突尼斯': 'Africa',\n",
       " '美属维尔京群岛': 'North America',\n",
       " '多米尼克': 'North America',\n",
       " '爱沙尼亚': 'Europe',\n",
       " '北马里亚纳群岛联邦': 'Oceania',\n",
       " '圣文森特和格林纳丁斯': 'North America',\n",
       " '冰岛': 'Europe',\n",
       " '列支敦士登': 'Europe',\n",
       " '南苏丹': 'Africa',\n",
       " '圣其茨和尼维斯': 'North America',\n",
       " '安圭拉': 'North America',\n",
       " '厄立特里亚': 'Africa',\n",
       " '圣多美和普林西比': 'Africa',\n",
       " '吉布提': 'Africa',\n",
       " '圣皮埃尔和密克隆群岛': 'North America',\n",
       " '法属波利尼西亚': 'Oceania',\n",
       " '科威特': 'Asia',\n",
       " '乍得': 'Africa',\n",
       " '加纳': 'Africa',\n",
       " '利比里亚': 'Africa',\n",
       " '乌干达': 'Africa',\n",
       " '卢旺达': 'Africa',\n",
       " '苏丹': 'Africa',\n",
       " '苏里南': 'South America',\n",
       " '尼加拉瓜': 'North America',\n",
       " '塞拉利昂': 'Africa',\n",
       " '莫桑比克': 'Africa',\n",
       " '不丹': 'Asia',\n",
       " '荷属圣马丁': 'North America',\n",
       " '科摩罗': 'Africa',\n",
       " '尼日尔': 'Africa',\n",
       " '开曼群岛': 'North America',\n",
       " '索马里': 'Africa',\n",
       " '塔吉克斯坦': 'Asia',\n",
       " '英属维尔京群岛': 'North America',\n",
       " '法属圭亚那': 'South America',\n",
       " '莱索托': 'Africa',\n",
       " '圣马丁岛': 'North America',\n",
       " '安道尔': 'Europe',\n",
       " '安提瓜和巴布达': 'North America',\n",
       " '特克斯和凯科斯群岛': 'North America',\n",
       " '马提尼克': 'North America',\n",
       " '塞舌尔': 'Africa',\n",
       " '圣巴泰勒米岛': 'North America',\n",
       " '阿鲁巴': 'South America',\n",
       " '白俄罗斯': 'Europe',\n",
       " '几内亚': 'Africa',\n",
       " '几内亚比绍': 'Africa',\n",
       " '马恩岛': 'Europe',\n",
       " '瓜德罗普岛': 'North America',\n",
       " '埃及': 'Africa',\n",
       " '喀麦隆': 'Africa',\n",
       " '福克兰群岛': 'South America',\n",
       " '贝宁': 'Africa',\n",
       " '刚果（布）': 'Africa',\n",
       " '布基纳法索': 'Africa',\n",
       " '南非': 'Africa',\n",
       " '法罗群岛': 'Europe',\n",
       " '格陵兰': 'North America',\n",
       " '荷兰加勒比地区': 'South America',\n",
       " '钻石公主号邮轮': 'Others',\n",
       " '梵蒂冈': 'Europe',\n",
       " '土库曼斯坦': 'Asia',\n",
       " '科索沃': 'Europe',\n",
       " '圣巴泰勒米': 'North America',\n",
       " '留尼汪': 'Asia',\n",
       " '至尊公主邮轮': 'Others',\n",
       " '大不列颠及北爱尔兰联合王国': 'Europe',\n",
       " '英国（含北爱尔兰）': 'Europe',\n",
       " '北爱尔兰': 'Europe'}"
      ]
     },
     "execution_count": 114,
     "metadata": {},
     "output_type": "execute_result"
    }
   ],
   "source": [
    "dict_country"
   ]
  },
  {
   "cell_type": "code",
   "execution_count": 112,
   "metadata": {},
   "outputs": [
    {
     "data": {
      "text/plain": [
       "41    Asia\n",
       "Name: continentEnglishName, dtype: object"
      ]
     },
     "execution_count": 112,
     "metadata": {},
     "output_type": "execute_result"
    }
   ],
   "source": [
    "drop_area.loc[drop_area['countryName'].str.contains('日本')]['continentEnglishName']"
   ]
  },
  {
   "cell_type": "code",
   "execution_count": 115,
   "metadata": {},
   "outputs": [
    {
     "name": "stderr",
     "output_type": "stream",
     "text": [
      "100%|██████████| 911/911 [07:50<00:00,  1.93it/s]\n",
      "/tmp/ipykernel_3154604/2656322558.py:62: FutureWarning: The frame.append method is deprecated and will be removed from pandas in a future version. Use pandas.concat instead.\n",
      "  df = df.append(NewList)\n"
     ]
    }
   ],
   "source": [
    "NewList = []\n",
    "df = pd.DataFrame(index=None)\n",
    "#中国和外国分开计算，如果是中国，那么则统计所有城市相加结果\n",
    "for date_t in tqdm(df_date):\n",
    "    #print(date_t)\n",
    "    \n",
    "    dataf = pd.read_csv(f'/media/wvdon/sdata/covid_evolution/data/all/{str(date_t)[:10]}.csv')\n",
    "    dataf = dataf[dataf['provinceName']!='中国']\n",
    "    for name in df_country:\n",
    "        area= dict_country[name]#drop_area[drop_area['countryName']==name]['continentEnglishName']\n",
    "        #print(date_t.strftime('%Y-%m-%d') + name)  # 输出处理进度\n",
    "        if name == '中国':\n",
    "            #print('china')\n",
    "            china_confirmedCount = 0\n",
    "            china_curedCount = 0\n",
    "            china_deadCount = 0\n",
    "            for province in df_province:\n",
    "                df2 = dataf.loc[(dataf['countryName'].str.contains(name)) & (dataf['provinceName'].str.contains(province)) & ('中国' not in str(dataf['provinceName']))  ,:]  # 通过索引标签来筛选数据\n",
    "                #print(df2)\n",
    "                if df2.empty:\n",
    "                    continue\n",
    "                \n",
    "                df2 = df2.loc[(df2['updateTime'] == df2['updateTime'].max()), ['province_confirmedCount', 'province_curedCount', 'province_deadCount']]  # 筛出时间上的最后数据\n",
    "                df2 = df2.drop_duplicates()\n",
    "                #print(df2)\n",
    "                # 将所有省份数据求和即得到整个中国得数据\n",
    "                china_confirmedCount += df2['province_confirmedCount'].values\n",
    "                china_curedCount += df2['province_curedCount'].values\n",
    "                china_deadCount += df2['province_deadCount'].values\n",
    "            \n",
    "            new = pandas.DataFrame({'国家': name,\n",
    "                                    'area':area,\n",
    "                                    '确诊': china_confirmedCount,\n",
    "                                    '治愈': china_curedCount,\n",
    "                                    '死亡': china_deadCount,\n",
    "                                    '日期': date_t},\n",
    "                                   pandas.Index(range(1))\n",
    "                                   )\n",
    "            NewList.append(new)\n",
    "\n",
    "        else:\n",
    "            \n",
    "            df1 = dataf.loc[(dataf['countryName'].str.contains(name)), :]  # 通过索引标签来筛选数据\n",
    "            if df1.empty:\n",
    "                continue\n",
    "            df1 = df1.loc[(df1['updateTime'] == df1['updateTime'].max()), :]  # 筛出国家的最后数据\n",
    "            \n",
    "            # 数据当中的国家确诊人数仍然是用province表示的\n",
    "            province_confirmedCount = df1['province_confirmedCount'].max()\n",
    "            province_curedCount = df1['province_curedCount'].max()\n",
    "            province_deadCount = df1['province_deadCount'].max()\n",
    "\n",
    "            new = pandas.DataFrame({'国家': name,\n",
    "                                    'area':area,\n",
    "                                    '确诊': province_confirmedCount,\n",
    "                                    '治愈': province_curedCount,\n",
    "                                    '死亡': province_deadCount,\n",
    "                                    '日期': date_t},\n",
    "                                   pandas.Index(range(1))\n",
    "                                   )\n",
    "            NewList.append(new)\n",
    "df = df.append(NewList)"
   ]
  },
  {
   "cell_type": "code",
   "execution_count": 96,
   "metadata": {},
   "outputs": [],
   "source": [
    "df = df.dropna()\n",
    "#output_file = \"/media/wvdon/sdata/covid_evolution/data/out.csv\"\n",
    "#df.to_csv(output_file, encoding=\"utf_8_sig\", index=False)  # 为保证excel打开兼容，输出为UTF8带签名格式"
   ]
  },
  {
   "cell_type": "code",
   "execution_count": 111,
   "metadata": {},
   "outputs": [
    {
     "data": {
      "text/plain": [
       "0         False\n",
       "41        False\n",
       "42        False\n",
       "43        False\n",
       "44        False\n",
       "          ...  \n",
       "936941    False\n",
       "937779    False\n",
       "947856    False\n",
       "948340    False\n",
       "949140    False\n",
       "Name: continentEnglishName, Length: 229, dtype: bool"
      ]
     },
     "execution_count": 111,
     "metadata": {},
     "output_type": "execute_result"
    }
   ],
   "source": [
    "drop_area['continentEnglishName']=='塞尔维亚'"
   ]
  },
  {
   "cell_type": "code",
   "execution_count": 116,
   "metadata": {},
   "outputs": [
    {
     "data": {
      "text/html": [
       "<div>\n",
       "<style scoped>\n",
       "    .dataframe tbody tr th:only-of-type {\n",
       "        vertical-align: middle;\n",
       "    }\n",
       "\n",
       "    .dataframe tbody tr th {\n",
       "        vertical-align: top;\n",
       "    }\n",
       "\n",
       "    .dataframe thead th {\n",
       "        text-align: right;\n",
       "    }\n",
       "</style>\n",
       "<table border=\"1\" class=\"dataframe\">\n",
       "  <thead>\n",
       "    <tr style=\"text-align: right;\">\n",
       "      <th></th>\n",
       "      <th>国家</th>\n",
       "      <th>area</th>\n",
       "      <th>确诊</th>\n",
       "      <th>治愈</th>\n",
       "      <th>死亡</th>\n",
       "      <th>日期</th>\n",
       "    </tr>\n",
       "  </thead>\n",
       "  <tbody>\n",
       "    <tr>\n",
       "      <th>0</th>\n",
       "      <td>中国</td>\n",
       "      <td>Asia</td>\n",
       "      <td>6947684</td>\n",
       "      <td>299541</td>\n",
       "      <td>26258</td>\n",
       "      <td>2022-09-27</td>\n",
       "    </tr>\n",
       "    <tr>\n",
       "      <th>0</th>\n",
       "      <td>日本</td>\n",
       "      <td>Asia</td>\n",
       "      <td>21067544</td>\n",
       "      <td>1712555</td>\n",
       "      <td>44401</td>\n",
       "      <td>2022-09-27</td>\n",
       "    </tr>\n",
       "    <tr>\n",
       "      <th>0</th>\n",
       "      <td>塞尔维亚</td>\n",
       "      <td>Europe</td>\n",
       "      <td>2621084</td>\n",
       "      <td>107287</td>\n",
       "      <td>20149</td>\n",
       "      <td>2022-09-27</td>\n",
       "    </tr>\n",
       "    <tr>\n",
       "      <th>0</th>\n",
       "      <td>以色列</td>\n",
       "      <td>Asia</td>\n",
       "      <td>4657756</td>\n",
       "      <td>4135695</td>\n",
       "      <td>11687</td>\n",
       "      <td>2022-09-27</td>\n",
       "    </tr>\n",
       "    <tr>\n",
       "      <th>0</th>\n",
       "      <td>美国</td>\n",
       "      <td>North America</td>\n",
       "      <td>96116204</td>\n",
       "      <td>94695619</td>\n",
       "      <td>1056789</td>\n",
       "      <td>2022-09-27</td>\n",
       "    </tr>\n",
       "    <tr>\n",
       "      <th>...</th>\n",
       "      <td>...</td>\n",
       "      <td>...</td>\n",
       "      <td>...</td>\n",
       "      <td>...</td>\n",
       "      <td>...</td>\n",
       "      <td>...</td>\n",
       "    </tr>\n",
       "    <tr>\n",
       "      <th>0</th>\n",
       "      <td>卡塔尔</td>\n",
       "      <td>Asia</td>\n",
       "      <td>446277</td>\n",
       "      <td>431091</td>\n",
       "      <td>682</td>\n",
       "      <td>2022-09-27</td>\n",
       "    </tr>\n",
       "    <tr>\n",
       "      <th>0</th>\n",
       "      <td>格林那达</td>\n",
       "      <td>North America</td>\n",
       "      <td>19536</td>\n",
       "      <td>5622</td>\n",
       "      <td>237</td>\n",
       "      <td>2022-09-27</td>\n",
       "    </tr>\n",
       "    <tr>\n",
       "      <th>0</th>\n",
       "      <td>摩纳哥</td>\n",
       "      <td>Europe</td>\n",
       "      <td>14554</td>\n",
       "      <td>2460</td>\n",
       "      <td>63</td>\n",
       "      <td>2022-09-27</td>\n",
       "    </tr>\n",
       "    <tr>\n",
       "      <th>0</th>\n",
       "      <td>蒙特塞拉特</td>\n",
       "      <td>North America</td>\n",
       "      <td>1392</td>\n",
       "      <td>245</td>\n",
       "      <td>8</td>\n",
       "      <td>2022-09-27</td>\n",
       "    </tr>\n",
       "    <tr>\n",
       "      <th>0</th>\n",
       "      <td>几内亚</td>\n",
       "      <td>Africa</td>\n",
       "      <td>44981</td>\n",
       "      <td>39905</td>\n",
       "      <td>664</td>\n",
       "      <td>2022-09-27</td>\n",
       "    </tr>\n",
       "  </tbody>\n",
       "</table>\n",
       "<p>105 rows × 6 columns</p>\n",
       "</div>"
      ],
      "text/plain": [
       "       国家           area        确诊        治愈       死亡         日期\n",
       "0      中国           Asia   6947684    299541    26258 2022-09-27\n",
       "0      日本           Asia  21067544   1712555    44401 2022-09-27\n",
       "0    塞尔维亚         Europe   2621084    107287    20149 2022-09-27\n",
       "0     以色列           Asia   4657756   4135695    11687 2022-09-27\n",
       "0      美国  North America  96116204  94695619  1056789 2022-09-27\n",
       "..    ...            ...       ...       ...      ...        ...\n",
       "0     卡塔尔           Asia    446277    431091      682 2022-09-27\n",
       "0    格林那达  North America     19536      5622      237 2022-09-27\n",
       "0     摩纳哥         Europe     14554      2460       63 2022-09-27\n",
       "0   蒙特塞拉特  North America      1392       245        8 2022-09-27\n",
       "0     几内亚         Africa     44981     39905      664 2022-09-27\n",
       "\n",
       "[105 rows x 6 columns]"
      ]
     },
     "execution_count": 116,
     "metadata": {},
     "output_type": "execute_result"
    }
   ],
   "source": [
    "df[df['日期']=='2022-09-27']"
   ]
  },
  {
   "cell_type": "code",
   "execution_count": 117,
   "metadata": {},
   "outputs": [
    {
     "data": {
      "text/plain": [
       "Africa           43215\n",
       "Europe           40906\n",
       "Asia             37374\n",
       "North America    27796\n",
       "South America    12875\n",
       "Oceania           5078\n",
       "Others            1420\n",
       "Name: area, dtype: int64"
      ]
     },
     "execution_count": 117,
     "metadata": {},
     "output_type": "execute_result"
    }
   ],
   "source": [
    "df['area'].value_counts()"
   ]
  },
  {
   "cell_type": "code",
   "execution_count": 159,
   "metadata": {},
   "outputs": [],
   "source": [
    "Africa = df[df['area']=='Oceania']"
   ]
  },
  {
   "cell_type": "code",
   "execution_count": 160,
   "metadata": {},
   "outputs": [
    {
     "name": "stderr",
     "output_type": "stream",
     "text": [
      "/tmp/ipykernel_3154604/3516635086.py:1: SettingWithCopyWarning: \n",
      "A value is trying to be set on a copy of a slice from a DataFrame.\n",
      "Try using .loc[row_indexer,col_indexer] = value instead\n",
      "\n",
      "See the caveats in the documentation: https://pandas.pydata.org/pandas-docs/stable/user_guide/indexing.html#returning-a-view-versus-a-copy\n",
      "  Africa['updateTime'] = pd.to_datetime(Africa['日期'])\n"
     ]
    }
   ],
   "source": [
    "Africa['updateTime'] = pd.to_datetime(Africa['日期'])"
   ]
  },
  {
   "cell_type": "code",
   "execution_count": 161,
   "metadata": {},
   "outputs": [],
   "source": [
    "Africa_country = Africa['国家'].drop_duplicates()"
   ]
  },
  {
   "cell_type": "code",
   "execution_count": 162,
   "metadata": {},
   "outputs": [],
   "source": [
    "# list_all_country_A = []\n",
    "# for country in tqdm(Africa_country):\n",
    "#     data_c = Africa[Africa['国家']==country]\n",
    "#     initial_confierm = 0\n",
    "#     correct_confierm=0\n",
    "    \n",
    "#     initial_dead = 0\n",
    "#     initial_cure = 0\n",
    "    \n",
    "#     correct_dead = 0\n",
    "#     correct_cure = 0\n",
    "    \n",
    "#     for d_d in df_date:\n",
    "#         now = data_c[data_c['日期']==str(d_d)[:10]]\n",
    "#         if len(now)==1:\n",
    "#             now_days_con = now.iloc[0]['确诊']\n",
    "#             now_days_dead = now.iloc[0]['死亡']\n",
    "#             now_days__cure = now.iloc[0]['治愈']\n",
    "#             initial_confierm = now_days_con\n",
    "#             initial_dead = now_days_dead\n",
    "#             initial_cure = now_days__cure\n",
    "#         else:\n",
    "#             now_days_con = initial_confierm\n",
    "#             now_days_dead = initial_dead\n",
    "#             now_days__cure = initial_cure\n",
    "        \n",
    "#         list_all_country_A.append([country,now_days_con,initial_dead,initial_cure,d_d])\n",
    "         "
   ]
  },
  {
   "cell_type": "code",
   "execution_count": null,
   "metadata": {},
   "outputs": [],
   "source": []
  },
  {
   "cell_type": "code",
   "execution_count": 163,
   "metadata": {},
   "outputs": [
    {
     "name": "stderr",
     "output_type": "stream",
     "text": [
      "100%|██████████| 7/7 [00:00<00:00, 1208.29it/s]"
     ]
    },
    {
     "name": "stdout",
     "output_type": "stream",
     "text": [
      "12251213\n"
     ]
    },
    {
     "name": "stderr",
     "output_type": "stream",
     "text": [
      "\n"
     ]
    }
   ],
   "source": [
    "Africa_counts = 0\n",
    "for country in tqdm(Africa_country):\n",
    "    c_d = Africa.loc[(Africa['国家']==country)]\n",
    "    Africa_counts = Africa_counts + c_d.loc[(c_d['updateTime'] == c_d['updateTime'].max())]['确诊'].max()\n",
    "print(Africa_counts)"
   ]
  },
  {
   "cell_type": "code",
   "execution_count": 173,
   "metadata": {},
   "outputs": [
    {
     "data": {
      "text/html": [
       "<div>\n",
       "<style scoped>\n",
       "    .dataframe tbody tr th:only-of-type {\n",
       "        vertical-align: middle;\n",
       "    }\n",
       "\n",
       "    .dataframe tbody tr th {\n",
       "        vertical-align: top;\n",
       "    }\n",
       "\n",
       "    .dataframe thead th {\n",
       "        text-align: right;\n",
       "    }\n",
       "</style>\n",
       "<table border=\"1\" class=\"dataframe\">\n",
       "  <thead>\n",
       "    <tr style=\"text-align: right;\">\n",
       "      <th></th>\n",
       "      <th>国家</th>\n",
       "      <th>area</th>\n",
       "      <th>确诊</th>\n",
       "      <th>治愈</th>\n",
       "      <th>死亡</th>\n",
       "      <th>日期</th>\n",
       "      <th>updateTime</th>\n",
       "    </tr>\n",
       "  </thead>\n",
       "  <tbody>\n",
       "    <tr>\n",
       "      <th>0</th>\n",
       "      <td>澳大利亚</td>\n",
       "      <td>Oceania</td>\n",
       "      <td>10204195</td>\n",
       "      <td>10017376</td>\n",
       "      <td>14928</td>\n",
       "      <td>2022-09-27</td>\n",
       "      <td>2022-09-27</td>\n",
       "    </tr>\n",
       "  </tbody>\n",
       "</table>\n",
       "</div>"
      ],
      "text/plain": [
       "     国家     area        确诊        治愈     死亡         日期 updateTime\n",
       "0  澳大利亚  Oceania  10204195  10017376  14928 2022-09-27 2022-09-27"
      ]
     },
     "execution_count": 173,
     "metadata": {},
     "output_type": "execute_result"
    }
   ],
   "source": [
    "df['updateTime'] = pd.to_datetime(df['日期'])\n",
    "c = df[df['国家']=='澳大利亚']\n",
    "c.loc[c['updateTime'] == c['updateTime'].max()]"
   ]
  },
  {
   "cell_type": "code",
   "execution_count": 174,
   "metadata": {},
   "outputs": [
    {
     "ename": "SyntaxError",
     "evalue": "invalid syntax (322985783.py, line 4)",
     "output_type": "error",
     "traceback": [
      "\u001b[0;36m  Input \u001b[0;32mIn [174]\u001b[0;36m\u001b[0m\n\u001b[0;31m    North America:114354772\u001b[0m\n\u001b[0m          ^\u001b[0m\n\u001b[0;31mSyntaxError\u001b[0m\u001b[0;31m:\u001b[0m invalid syntax\n"
     ]
    }
   ],
   "source": [
    "Africa:12632483\n",
    "Europe:229428467\n",
    "Asia:181470620\n",
    "North America:114354772\n",
    "South America:64063612\n",
    "Oceania:12251213\n",
    "中国:6947684\n",
    "英国:23621956\n",
    "印度:44572243\n",
    "日本:21067544\n",
    "澳大利亚:10204195"
   ]
  },
  {
   "cell_type": "code",
   "execution_count": 102,
   "metadata": {},
   "outputs": [
    {
     "data": {
      "text/html": [
       "<div>\n",
       "<style scoped>\n",
       "    .dataframe tbody tr th:only-of-type {\n",
       "        vertical-align: middle;\n",
       "    }\n",
       "\n",
       "    .dataframe tbody tr th {\n",
       "        vertical-align: top;\n",
       "    }\n",
       "\n",
       "    .dataframe thead th {\n",
       "        text-align: right;\n",
       "    }\n",
       "</style>\n",
       "<table border=\"1\" class=\"dataframe\">\n",
       "  <thead>\n",
       "    <tr style=\"text-align: right;\">\n",
       "      <th></th>\n",
       "      <th>国家</th>\n",
       "      <th>area</th>\n",
       "      <th>确诊</th>\n",
       "      <th>治愈</th>\n",
       "      <th>死亡</th>\n",
       "      <th>日期</th>\n",
       "    </tr>\n",
       "  </thead>\n",
       "  <tbody>\n",
       "    <tr>\n",
       "      <th>0</th>\n",
       "      <td>中国</td>\n",
       "      <td>Asia</td>\n",
       "      <td>897</td>\n",
       "      <td>36</td>\n",
       "      <td>26</td>\n",
       "      <td>2020-01-24</td>\n",
       "    </tr>\n",
       "    <tr>\n",
       "      <th>0</th>\n",
       "      <td>中国</td>\n",
       "      <td>Asia</td>\n",
       "      <td>1372</td>\n",
       "      <td>39</td>\n",
       "      <td>41</td>\n",
       "      <td>2020-01-25</td>\n",
       "    </tr>\n",
       "    <tr>\n",
       "      <th>0</th>\n",
       "      <td>中国</td>\n",
       "      <td>Asia</td>\n",
       "      <td>2063</td>\n",
       "      <td>49</td>\n",
       "      <td>56</td>\n",
       "      <td>2020-01-26</td>\n",
       "    </tr>\n",
       "    <tr>\n",
       "      <th>0</th>\n",
       "      <td>中国</td>\n",
       "      <td>Asia</td>\n",
       "      <td>2855</td>\n",
       "      <td>58</td>\n",
       "      <td>81</td>\n",
       "      <td>2020-01-27</td>\n",
       "    </tr>\n",
       "    <tr>\n",
       "      <th>0</th>\n",
       "      <td>中国</td>\n",
       "      <td>Asia</td>\n",
       "      <td>4636</td>\n",
       "      <td>71</td>\n",
       "      <td>106</td>\n",
       "      <td>2020-01-28</td>\n",
       "    </tr>\n",
       "    <tr>\n",
       "      <th>...</th>\n",
       "      <td>...</td>\n",
       "      <td>...</td>\n",
       "      <td>...</td>\n",
       "      <td>...</td>\n",
       "      <td>...</td>\n",
       "      <td>...</td>\n",
       "    </tr>\n",
       "    <tr>\n",
       "      <th>0</th>\n",
       "      <td>中国</td>\n",
       "      <td>Asia</td>\n",
       "      <td>6723741</td>\n",
       "      <td>233454</td>\n",
       "      <td>21381</td>\n",
       "      <td>2022-09-23</td>\n",
       "    </tr>\n",
       "    <tr>\n",
       "      <th>0</th>\n",
       "      <td>中国</td>\n",
       "      <td>Asia</td>\n",
       "      <td>6871979</td>\n",
       "      <td>337602</td>\n",
       "      <td>26114</td>\n",
       "      <td>2022-09-24</td>\n",
       "    </tr>\n",
       "    <tr>\n",
       "      <th>0</th>\n",
       "      <td>中国</td>\n",
       "      <td>Asia</td>\n",
       "      <td>6912319</td>\n",
       "      <td>339219</td>\n",
       "      <td>26155</td>\n",
       "      <td>2022-09-25</td>\n",
       "    </tr>\n",
       "    <tr>\n",
       "      <th>0</th>\n",
       "      <td>中国</td>\n",
       "      <td>Asia</td>\n",
       "      <td>6896306</td>\n",
       "      <td>294291</td>\n",
       "      <td>26190</td>\n",
       "      <td>2022-09-26</td>\n",
       "    </tr>\n",
       "    <tr>\n",
       "      <th>0</th>\n",
       "      <td>中国</td>\n",
       "      <td>Asia</td>\n",
       "      <td>6947684</td>\n",
       "      <td>299541</td>\n",
       "      <td>26258</td>\n",
       "      <td>2022-09-27</td>\n",
       "    </tr>\n",
       "  </tbody>\n",
       "</table>\n",
       "<p>911 rows × 6 columns</p>\n",
       "</div>"
      ],
      "text/plain": [
       "    国家  area       确诊      治愈     死亡         日期\n",
       "0   中国  Asia      897      36     26 2020-01-24\n",
       "0   中国  Asia     1372      39     41 2020-01-25\n",
       "0   中国  Asia     2063      49     56 2020-01-26\n",
       "0   中国  Asia     2855      58     81 2020-01-27\n",
       "0   中国  Asia     4636      71    106 2020-01-28\n",
       "..  ..   ...      ...     ...    ...        ...\n",
       "0   中国  Asia  6723741  233454  21381 2022-09-23\n",
       "0   中国  Asia  6871979  337602  26114 2022-09-24\n",
       "0   中国  Asia  6912319  339219  26155 2022-09-25\n",
       "0   中国  Asia  6896306  294291  26190 2022-09-26\n",
       "0   中国  Asia  6947684  299541  26258 2022-09-27\n",
       "\n",
       "[911 rows x 6 columns]"
      ]
     },
     "execution_count": 102,
     "metadata": {},
     "output_type": "execute_result"
    }
   ],
   "source": [
    "correct_now = 0\n",
    "correct_conf_list = []\n",
    "correct_dead = 0\n",
    "correct_dead_t = 0\n",
    "correct_dead_list = []\n",
    "correct_dead_list_true = []\n",
    "for d_d in tqdm(df_date):\n",
    "    now_day_sum = final[final['time']==str(d_d)[:10]]['conf'].sum()\n",
    "    if now_day_sum > correct_now:\n",
    "        correct_now = now_day_sum\n",
    "    now_day_dead_sum = final[final['time']==str(d_d)[:10]]['dead'].sum()\n",
    "    if now_day_dead_sum >= correct_dead :\n",
    "        \n",
    "        if correct_dead==0:\n",
    "            correct_dead = now_day_dead_sum\n",
    "        elif (correct_dead!=0 and now_day_dead_sum < correct_dead*2):\n",
    "            correct_dead = now_day_dead_sum\n",
    "    if now_day_dead_sum >= correct_dead_t :\n",
    "        correct_dead_t = now_day_dead_sum\n",
    "    correct_dead_list.append(correct_dead)\n",
    "    correct_dead_list_true.append(correct_dead_t)\n",
    "    correct_conf_list.append(correct_now)"
   ]
  },
  {
   "cell_type": "code",
   "execution_count": null,
   "metadata": {},
   "outputs": [],
   "source": []
  },
  {
   "cell_type": "code",
   "execution_count": 36,
   "metadata": {},
   "outputs": [],
   "source": [
    "df_ex_china = df[df['国家']!='中国']"
   ]
  },
  {
   "cell_type": "code",
   "execution_count": 37,
   "metadata": {},
   "outputs": [],
   "source": [
    "plot_data = df_ex_china.groupby('日期').agg({'确诊':'sum'})"
   ]
  },
  {
   "cell_type": "code",
   "execution_count": 38,
   "metadata": {},
   "outputs": [
    {
     "data": {
      "text/html": [
       "<div>\n",
       "<style scoped>\n",
       "    .dataframe tbody tr th:only-of-type {\n",
       "        vertical-align: middle;\n",
       "    }\n",
       "\n",
       "    .dataframe tbody tr th {\n",
       "        vertical-align: top;\n",
       "    }\n",
       "\n",
       "    .dataframe thead th {\n",
       "        text-align: right;\n",
       "    }\n",
       "</style>\n",
       "<table border=\"1\" class=\"dataframe\">\n",
       "  <thead>\n",
       "    <tr style=\"text-align: right;\">\n",
       "      <th></th>\n",
       "      <th>确诊</th>\n",
       "    </tr>\n",
       "    <tr>\n",
       "      <th>日期</th>\n",
       "      <th></th>\n",
       "    </tr>\n",
       "  </thead>\n",
       "  <tbody>\n",
       "    <tr>\n",
       "      <th>2020-01-27</th>\n",
       "      <td>39</td>\n",
       "    </tr>\n",
       "    <tr>\n",
       "      <th>2020-01-28</th>\n",
       "      <td>29</td>\n",
       "    </tr>\n",
       "    <tr>\n",
       "      <th>2020-01-29</th>\n",
       "      <td>36</td>\n",
       "    </tr>\n",
       "    <tr>\n",
       "      <th>2020-01-30</th>\n",
       "      <td>18</td>\n",
       "    </tr>\n",
       "    <tr>\n",
       "      <th>2020-01-31</th>\n",
       "      <td>94</td>\n",
       "    </tr>\n",
       "  </tbody>\n",
       "</table>\n",
       "</div>"
      ],
      "text/plain": [
       "            确诊\n",
       "日期            \n",
       "2020-01-27  39\n",
       "2020-01-28  29\n",
       "2020-01-29  36\n",
       "2020-01-30  18\n",
       "2020-01-31  94"
      ]
     },
     "execution_count": 38,
     "metadata": {},
     "output_type": "execute_result"
    }
   ],
   "source": [
    "plot_data.head()"
   ]
  },
  {
   "cell_type": "code",
   "execution_count": 39,
   "metadata": {},
   "outputs": [],
   "source": [
    "#3-15开始的中国的， 补一下子之前的数据。\n",
    "end_date_china = datetime(2020, 3, 16, 0, 0)"
   ]
  },
  {
   "cell_type": "code",
   "execution_count": 40,
   "metadata": {},
   "outputs": [],
   "source": [
    "before_data = df.loc[(df['国家']=='中国')&(df['日期']<end_date_china)&(df['日期']>datetime(2020, 1, 26, 0, 0))]"
   ]
  },
  {
   "cell_type": "code",
   "execution_count": 41,
   "metadata": {},
   "outputs": [],
   "source": [
    "#count_list"
   ]
  },
  {
   "cell_type": "code",
   "execution_count": 42,
   "metadata": {},
   "outputs": [],
   "source": [
    "china_data_date_list = list(before_data['日期'])\n",
    "china_data_date_list = china_data_date_list+date_list\n",
    "china_data_list = list(before_data['确诊'])\n",
    "china_data_list = china_data_list+count_list"
   ]
  },
  {
   "cell_type": "code",
   "execution_count": 43,
   "metadata": {},
   "outputs": [
    {
     "data": {
      "text/plain": [
       "908"
      ]
     },
     "execution_count": 43,
     "metadata": {},
     "output_type": "execute_result"
    }
   ],
   "source": [
    "len(np.array(plot_data['确诊'])+np.array(china_data_list))"
   ]
  },
  {
   "cell_type": "code",
   "execution_count": 44,
   "metadata": {},
   "outputs": [
    {
     "data": {
      "text/plain": [
       "908"
      ]
     },
     "execution_count": 44,
     "metadata": {},
     "output_type": "execute_result"
    }
   ],
   "source": [
    "len(china_data_date_list)"
   ]
  },
  {
   "cell_type": "code",
   "execution_count": 45,
   "metadata": {},
   "outputs": [
    {
     "data": {
      "text/html": [
       "<div>\n",
       "<style scoped>\n",
       "    .dataframe tbody tr th:only-of-type {\n",
       "        vertical-align: middle;\n",
       "    }\n",
       "\n",
       "    .dataframe tbody tr th {\n",
       "        vertical-align: top;\n",
       "    }\n",
       "\n",
       "    .dataframe thead th {\n",
       "        text-align: right;\n",
       "    }\n",
       "</style>\n",
       "<table border=\"1\" class=\"dataframe\">\n",
       "  <thead>\n",
       "    <tr style=\"text-align: right;\">\n",
       "      <th></th>\n",
       "      <th>国家</th>\n",
       "      <th>确诊</th>\n",
       "      <th>治愈</th>\n",
       "      <th>死亡</th>\n",
       "      <th>日期</th>\n",
       "    </tr>\n",
       "  </thead>\n",
       "  <tbody>\n",
       "    <tr>\n",
       "      <th>0</th>\n",
       "      <td>中国</td>\n",
       "      <td>897</td>\n",
       "      <td>36</td>\n",
       "      <td>26</td>\n",
       "      <td>2020-01-24</td>\n",
       "    </tr>\n",
       "    <tr>\n",
       "      <th>0</th>\n",
       "      <td>中国</td>\n",
       "      <td>1372</td>\n",
       "      <td>39</td>\n",
       "      <td>41</td>\n",
       "      <td>2020-01-25</td>\n",
       "    </tr>\n",
       "    <tr>\n",
       "      <th>0</th>\n",
       "      <td>中国</td>\n",
       "      <td>2063</td>\n",
       "      <td>49</td>\n",
       "      <td>56</td>\n",
       "      <td>2020-01-26</td>\n",
       "    </tr>\n",
       "    <tr>\n",
       "      <th>0</th>\n",
       "      <td>中国</td>\n",
       "      <td>2855</td>\n",
       "      <td>58</td>\n",
       "      <td>81</td>\n",
       "      <td>2020-01-27</td>\n",
       "    </tr>\n",
       "    <tr>\n",
       "      <th>0</th>\n",
       "      <td>日本</td>\n",
       "      <td>4</td>\n",
       "      <td>1</td>\n",
       "      <td>0</td>\n",
       "      <td>2020-01-27</td>\n",
       "    </tr>\n",
       "  </tbody>\n",
       "</table>\n",
       "</div>"
      ],
      "text/plain": [
       "   国家    确诊  治愈  死亡         日期\n",
       "0  中国   897  36  26 2020-01-24\n",
       "0  中国  1372  39  41 2020-01-25\n",
       "0  中国  2063  49  56 2020-01-26\n",
       "0  中国  2855  58  81 2020-01-27\n",
       "0  日本     4   1   0 2020-01-27"
      ]
     },
     "execution_count": 45,
     "metadata": {},
     "output_type": "execute_result"
    }
   ],
   "source": [
    "df.head()"
   ]
  },
  {
   "cell_type": "code",
   "execution_count": 46,
   "metadata": {},
   "outputs": [
    {
     "name": "stderr",
     "output_type": "stream",
     "text": [
      "100%|██████████| 223/223 [01:34<00:00,  2.36it/s]\n"
     ]
    }
   ],
   "source": [
    "list_all_country = []\n",
    "for country in tqdm(df_country):\n",
    "    data_c = df[df['国家']==country]\n",
    "    initial_confierm = 0\n",
    "    correct_confierm=0\n",
    "    \n",
    "    initial_dead = 0\n",
    "    initial_cure = 0\n",
    "    \n",
    "    correct_dead = 0\n",
    "    correct_cure = 0\n",
    "    \n",
    "    for d_d in df_date:\n",
    "        now = data_c[data_c['日期']==str(d_d)[:10]]\n",
    "        if len(now)==1:\n",
    "            now_days_con = now.iloc[0]['确诊']\n",
    "            now_days_dead = now.iloc[0]['死亡']\n",
    "            now_days__cure = now.iloc[0]['治愈']\n",
    "            initial_confierm = now_days_con\n",
    "            initial_dead = now_days_dead\n",
    "            initial_cure = now_days__cure\n",
    "        else:\n",
    "            now_days_con = initial_confierm\n",
    "            now_days_dead = initial_dead\n",
    "            now_days__cure = initial_cure\n",
    "        \n",
    "        list_all_country.append([country,now_days_con,initial_dead,initial_cure,d_d])\n",
    "            \n",
    "    # 新的确诊数量在原有确诊数量的基础上，\n",
    "    #"
   ]
  },
  {
   "cell_type": "code",
   "execution_count": 47,
   "metadata": {},
   "outputs": [],
   "source": [
    "final = pd.DataFrame(list_all_country,columns=['country','conf','dead','cure','time'])\n",
    "final['time'] = pd.to_datetime(final['time'])"
   ]
  },
  {
   "cell_type": "code",
   "execution_count": 65,
   "metadata": {},
   "outputs": [
    {
     "data": {
      "text/html": [
       "<div>\n",
       "<style scoped>\n",
       "    .dataframe tbody tr th:only-of-type {\n",
       "        vertical-align: middle;\n",
       "    }\n",
       "\n",
       "    .dataframe tbody tr th {\n",
       "        vertical-align: top;\n",
       "    }\n",
       "\n",
       "    .dataframe thead th {\n",
       "        text-align: right;\n",
       "    }\n",
       "</style>\n",
       "<table border=\"1\" class=\"dataframe\">\n",
       "  <thead>\n",
       "    <tr style=\"text-align: right;\">\n",
       "      <th></th>\n",
       "      <th>country</th>\n",
       "      <th>conf</th>\n",
       "      <th>dead</th>\n",
       "      <th>cure</th>\n",
       "      <th>time</th>\n",
       "    </tr>\n",
       "  </thead>\n",
       "  <tbody>\n",
       "    <tr>\n",
       "      <th>0</th>\n",
       "      <td>中国</td>\n",
       "      <td>897</td>\n",
       "      <td>26</td>\n",
       "      <td>36</td>\n",
       "      <td>2020-01-24</td>\n",
       "    </tr>\n",
       "    <tr>\n",
       "      <th>1</th>\n",
       "      <td>中国</td>\n",
       "      <td>1372</td>\n",
       "      <td>41</td>\n",
       "      <td>39</td>\n",
       "      <td>2020-01-25</td>\n",
       "    </tr>\n",
       "    <tr>\n",
       "      <th>2</th>\n",
       "      <td>中国</td>\n",
       "      <td>2063</td>\n",
       "      <td>56</td>\n",
       "      <td>49</td>\n",
       "      <td>2020-01-26</td>\n",
       "    </tr>\n",
       "    <tr>\n",
       "      <th>3</th>\n",
       "      <td>中国</td>\n",
       "      <td>2855</td>\n",
       "      <td>81</td>\n",
       "      <td>58</td>\n",
       "      <td>2020-01-27</td>\n",
       "    </tr>\n",
       "    <tr>\n",
       "      <th>4</th>\n",
       "      <td>中国</td>\n",
       "      <td>4636</td>\n",
       "      <td>106</td>\n",
       "      <td>71</td>\n",
       "      <td>2020-01-28</td>\n",
       "    </tr>\n",
       "    <tr>\n",
       "      <th>...</th>\n",
       "      <td>...</td>\n",
       "      <td>...</td>\n",
       "      <td>...</td>\n",
       "      <td>...</td>\n",
       "      <td>...</td>\n",
       "    </tr>\n",
       "    <tr>\n",
       "      <th>203148</th>\n",
       "      <td>北爱尔兰</td>\n",
       "      <td>20</td>\n",
       "      <td>0</td>\n",
       "      <td>8</td>\n",
       "      <td>2022-09-23</td>\n",
       "    </tr>\n",
       "    <tr>\n",
       "      <th>203149</th>\n",
       "      <td>北爱尔兰</td>\n",
       "      <td>20</td>\n",
       "      <td>0</td>\n",
       "      <td>8</td>\n",
       "      <td>2022-09-24</td>\n",
       "    </tr>\n",
       "    <tr>\n",
       "      <th>203150</th>\n",
       "      <td>北爱尔兰</td>\n",
       "      <td>20</td>\n",
       "      <td>0</td>\n",
       "      <td>8</td>\n",
       "      <td>2022-09-25</td>\n",
       "    </tr>\n",
       "    <tr>\n",
       "      <th>203151</th>\n",
       "      <td>北爱尔兰</td>\n",
       "      <td>20</td>\n",
       "      <td>0</td>\n",
       "      <td>8</td>\n",
       "      <td>2022-09-26</td>\n",
       "    </tr>\n",
       "    <tr>\n",
       "      <th>203152</th>\n",
       "      <td>北爱尔兰</td>\n",
       "      <td>20</td>\n",
       "      <td>0</td>\n",
       "      <td>8</td>\n",
       "      <td>2022-09-27</td>\n",
       "    </tr>\n",
       "  </tbody>\n",
       "</table>\n",
       "<p>203153 rows × 5 columns</p>\n",
       "</div>"
      ],
      "text/plain": [
       "       country  conf  dead  cure       time\n",
       "0           中国   897    26    36 2020-01-24\n",
       "1           中国  1372    41    39 2020-01-25\n",
       "2           中国  2063    56    49 2020-01-26\n",
       "3           中国  2855    81    58 2020-01-27\n",
       "4           中国  4636   106    71 2020-01-28\n",
       "...        ...   ...   ...   ...        ...\n",
       "203148    北爱尔兰    20     0     8 2022-09-23\n",
       "203149    北爱尔兰    20     0     8 2022-09-24\n",
       "203150    北爱尔兰    20     0     8 2022-09-25\n",
       "203151    北爱尔兰    20     0     8 2022-09-26\n",
       "203152    北爱尔兰    20     0     8 2022-09-27\n",
       "\n",
       "[203153 rows x 5 columns]"
      ]
     },
     "execution_count": 65,
     "metadata": {},
     "output_type": "execute_result"
    }
   ],
   "source": [
    "final"
   ]
  },
  {
   "cell_type": "code",
   "execution_count": 49,
   "metadata": {},
   "outputs": [
    {
     "name": "stderr",
     "output_type": "stream",
     "text": [
      "100%|██████████| 911/911 [00:01<00:00, 814.90it/s]\n"
     ]
    }
   ],
   "source": [
    "correct_now = 0\n",
    "correct_conf_list = []\n",
    "correct_dead = 0\n",
    "correct_dead_t = 0\n",
    "correct_dead_list = []\n",
    "correct_dead_list_true = []\n",
    "for d_d in tqdm(df_date):\n",
    "    now_day_sum = final[final['time']==str(d_d)[:10]]['conf'].sum()\n",
    "    if now_day_sum > correct_now:\n",
    "        correct_now = now_day_sum\n",
    "    now_day_dead_sum = final[final['time']==str(d_d)[:10]]['dead'].sum()\n",
    "    if now_day_dead_sum >= correct_dead :\n",
    "        \n",
    "        if correct_dead==0:\n",
    "            correct_dead = now_day_dead_sum\n",
    "        elif (correct_dead!=0 and now_day_dead_sum < correct_dead*2):\n",
    "            correct_dead = now_day_dead_sum\n",
    "    if now_day_dead_sum >= correct_dead_t :\n",
    "        correct_dead_t = now_day_dead_sum\n",
    "    correct_dead_list.append(correct_dead)\n",
    "    correct_dead_list_true.append(correct_dead_t)\n",
    "    correct_conf_list.append(correct_now)"
   ]
  },
  {
   "cell_type": "code",
   "execution_count": 50,
   "metadata": {},
   "outputs": [
    {
     "name": "stderr",
     "output_type": "stream",
     "text": [
      "/tmp/ipykernel_3154604/2739451364.py:9: RuntimeWarning: divide by zero encountered in long_scalars\n",
      "  days_dead_rate = (correct_dead_list[i]-pre_dead)/(correct_conf_list[i]-pre_conf)\n",
      "/tmp/ipykernel_3154604/2739451364.py:9: RuntimeWarning: invalid value encountered in long_scalars\n",
      "  days_dead_rate = (correct_dead_list[i]-pre_dead)/(correct_conf_list[i]-pre_conf)\n"
     ]
    }
   ],
   "source": [
    "#计算死亡率\n",
    "pre_conf = correct_conf_list[0]\n",
    "pre_dead = correct_dead_list[0]\n",
    "days_new_rate = [pre_dead/pre_conf]\n",
    "dead_rate = [pre_dead/pre_conf]\n",
    "\n",
    "dead_rate_t =[pre_dead/pre_conf]\n",
    "for i in range(1,len(correct_conf_list)):\n",
    "    days_dead_rate = (correct_dead_list[i]-pre_dead)/(correct_conf_list[i]-pre_conf)\n",
    "    days_new_rate.append(days_dead_rate)\n",
    "    dead_rate.append(correct_dead_list[i]/correct_conf_list[i])\n",
    "    dead_rate_t.append(correct_dead_list_true[i]/correct_conf_list[i])\n",
    "    pre_conf = correct_conf_list[i]\n",
    "    pre_dead = correct_dead_list[i]"
   ]
  },
  {
   "cell_type": "code",
   "execution_count": 51,
   "metadata": {},
   "outputs": [
    {
     "data": {
      "text/plain": [
       "911"
      ]
     },
     "execution_count": 51,
     "metadata": {},
     "output_type": "execute_result"
    }
   ],
   "source": [
    "len(correct_conf_list)"
   ]
  },
  {
   "cell_type": "code",
   "execution_count": 52,
   "metadata": {},
   "outputs": [],
   "source": [
    "final_plot = final.groupby('time').agg({'conf':'sum'})"
   ]
  },
  {
   "cell_type": "code",
   "execution_count": 53,
   "metadata": {},
   "outputs": [
    {
     "data": {
      "text/html": [
       "<div>\n",
       "<style scoped>\n",
       "    .dataframe tbody tr th:only-of-type {\n",
       "        vertical-align: middle;\n",
       "    }\n",
       "\n",
       "    .dataframe tbody tr th {\n",
       "        vertical-align: top;\n",
       "    }\n",
       "\n",
       "    .dataframe thead th {\n",
       "        text-align: right;\n",
       "    }\n",
       "</style>\n",
       "<table border=\"1\" class=\"dataframe\">\n",
       "  <thead>\n",
       "    <tr style=\"text-align: right;\">\n",
       "      <th></th>\n",
       "      <th>country</th>\n",
       "      <th>conf</th>\n",
       "      <th>dead</th>\n",
       "      <th>cure</th>\n",
       "      <th>time</th>\n",
       "    </tr>\n",
       "  </thead>\n",
       "  <tbody>\n",
       "    <tr>\n",
       "      <th>0</th>\n",
       "      <td>中国</td>\n",
       "      <td>897</td>\n",
       "      <td>26</td>\n",
       "      <td>36</td>\n",
       "      <td>2020-01-24</td>\n",
       "    </tr>\n",
       "    <tr>\n",
       "      <th>1</th>\n",
       "      <td>中国</td>\n",
       "      <td>1372</td>\n",
       "      <td>41</td>\n",
       "      <td>39</td>\n",
       "      <td>2020-01-25</td>\n",
       "    </tr>\n",
       "    <tr>\n",
       "      <th>2</th>\n",
       "      <td>中国</td>\n",
       "      <td>2063</td>\n",
       "      <td>56</td>\n",
       "      <td>49</td>\n",
       "      <td>2020-01-26</td>\n",
       "    </tr>\n",
       "    <tr>\n",
       "      <th>3</th>\n",
       "      <td>中国</td>\n",
       "      <td>2855</td>\n",
       "      <td>81</td>\n",
       "      <td>58</td>\n",
       "      <td>2020-01-27</td>\n",
       "    </tr>\n",
       "    <tr>\n",
       "      <th>4</th>\n",
       "      <td>中国</td>\n",
       "      <td>4636</td>\n",
       "      <td>106</td>\n",
       "      <td>71</td>\n",
       "      <td>2020-01-28</td>\n",
       "    </tr>\n",
       "  </tbody>\n",
       "</table>\n",
       "</div>"
      ],
      "text/plain": [
       "  country  conf  dead  cure       time\n",
       "0      中国   897    26    36 2020-01-24\n",
       "1      中国  1372    41    39 2020-01-25\n",
       "2      中国  2063    56    49 2020-01-26\n",
       "3      中国  2855    81    58 2020-01-27\n",
       "4      中国  4636   106    71 2020-01-28"
      ]
     },
     "execution_count": 53,
     "metadata": {},
     "output_type": "execute_result"
    }
   ],
   "source": [
    "final.head()"
   ]
  },
  {
   "cell_type": "code",
   "execution_count": 54,
   "metadata": {},
   "outputs": [
    {
     "data": {
      "image/png": "[encoded data removed]",
      "text/plain": [
       "<Figure size 1440x720 with 2 Axes>"
      ]
     },
     "metadata": {
      "needs_background": "light"
     },
     "output_type": "display_data"
    }
   ],
   "source": [
    "import matplotlib.pyplot as plt\n",
    "fig = plt.figure(figsize=(20,10))\n",
    "ax1 = fig.add_subplot(111)\n",
    "line1 = plt.plot(final_plot.index,final_plot['conf'],label = 'Origin Count')\n",
    "line2 = plt.plot(final_plot.index,correct_conf_list,label='Correction Count')\n",
    "ax1.set_ylabel('Confirmed Count')\n",
    "\n",
    "#plt.plot(final_plot.index,days_new_rate,label='dead rate of everyday')\n",
    "ax2 = ax1.twinx()\n",
    "lin4= plt.plot(final_plot.index,dead_rate_t,label='Dead Rate True',color='green')\n",
    "lin3= plt.plot(final_plot.index,dead_rate,label='Correction Dead Rate',color='r')\n",
    "\n",
    "#vc = final['Earliest date'].value_counts().sort_index()\n",
    "# pd_vc = pd.DataFrame([],columns=['date','counts'])\n",
    "# pd_vc['date'] = pd.to_datetime(vc.index)\n",
    "# pd_vc['counts'] = vc.values\n",
    "# plt.plot(pd_vc['date'],pd_vc['counts'])\n",
    "\n",
    "\n",
    "ax2.set_ylabel('Dead Rate')\n",
    "lines = line1+line2+lin3+lin4\n",
    "labs = [label.get_label() for label in lines]\n",
    "ax1.legend(lines,labs,fontsize=20,loc='upper center')\n",
    "#plt.legend()\n",
    "plt.show()"
   ]
  },
  {
   "cell_type": "code",
   "execution_count": 55,
   "metadata": {},
   "outputs": [],
   "source": [
    "data_mu = pd.read_csv('data/final_rate.csv')\n",
    "data_mu['MIN(collection_date)'] = pd.to_datetime(data_mu['MIN(collection_date)'])\n",
    "top = len(data_mu)\n",
    "Lineage = data_mu['Lineage'][:top]\n",
    "date = data_mu['MIN(collection_date)'][:top]\n",
    "N = data_mu['N'][:top]\n",
    "E = data_mu['E'][:top]\n",
    "S = data_mu['S'][:top]\n",
    "M = data_mu['M'][:top]"
   ]
  },
  {
   "cell_type": "code",
   "execution_count": 56,
   "metadata": {},
   "outputs": [],
   "source": [
    "#len(data_mu['MIN(collection_date)'].value_countsu)"
   ]
  },
  {
   "cell_type": "code",
   "execution_count": 63,
   "metadata": {},
   "outputs": [
    {
     "data": {
      "image/png": "[encoded data removed]",
      "text/plain": [
       "<Figure size 1440x720 with 2 Axes>"
      ]
     },
     "metadata": {
      "needs_background": "light"
     },
     "output_type": "display_data"
    }
   ],
   "source": [
    "#fig = plt.figure(figsize=(20,10))\n",
    "fig, ax = plt.subplots(figsize=(20,10))\n",
    "#ax = fig.add_subplot(111)\n",
    "#ax.scatter(date, N)\n",
    "#ax.set_ylim(0,0.2)\n",
    "cut = 0.02\n",
    "for i in range(0,top):\n",
    "    #print(Lineage[i])\n",
    "    \n",
    "    if N[i]>cut:\n",
    "        #print(N[i])\n",
    "        ax.annotate(str(Lineage[i]), (date[i], N[i]), xytext=(1,1), textcoords='offset points')\n",
    "l0=plt.scatter(date, N, color='red',label='N')\n",
    "for i in range(0,top):\n",
    "    #print(Lineage[i])\n",
    "    if S[i]>cut:\n",
    "        #print(N[i])\n",
    "        ax.annotate(str(Lineage[i]), (date[i], S[i]), xytext=(1.5,1.5), textcoords='offset points')\n",
    "l1=plt.scatter(date, S,label='S',color='y')\n",
    "for i in range(0,top):\n",
    "    #print(Lineage[i])\n",
    "    \n",
    "    if E[i]>cut:\n",
    "#         #print(N[i])\n",
    "#         if Lineage[i]=='B.1.617.2' or (E[i]>0.10 and Lineage[i]=='AY.30'):\n",
    "#             pass\n",
    "#         else:\n",
    "        ax.annotate(str(Lineage[i]), (date[i], E[i]), xytext=(3,3), textcoords='offset points')\n",
    "l2=plt.scatter(date, E,label='E',color='pink')\n",
    "for i in range(0,top):\n",
    "    #print(Lineage[i])\n",
    "    if M[i]>cut:\n",
    "        #print(N[i])\n",
    "#         if Lineage[i]=='B.1.617.2' or (M[i]>0.10 and Lineage[i]=='AY.30') or Lineage[i]=='AY.23':\n",
    "#             pass\n",
    "#         else:\n",
    "        ax.annotate(str(Lineage[i]), (date[i], M[i]), xytext=(4,4), textcoords='offset points')\n",
    "l3=plt.scatter(date, M,label='M',color='purple')\n",
    "ax.set_ylabel('Muation Rate',fontsize=20)\n",
    "ax.legend(loc='upper left',fontsize=20)\n",
    "\n",
    "lin3= plt.plot(final_plot.index,dead_rate,linewidth=6,label='Correction Dead Rate',color='lightcoral')\n",
    "lin4= plt.plot(final_plot.index,dead_rate_t,linewidth=2.5,label='Dead Rate True',color='darkolivegreen')\n",
    "\n",
    "ax2 = ax.twinx()\n",
    "line1 = plt.plot(final_plot.index,final_plot['conf'],label = 'Origin Count',c='cornflowerblue')\n",
    "line2 = plt.plot(final_plot.index,correct_conf_list,label='Correction Count',color='cyan')\n",
    "ax2.set_ylabel('Confirmed Count',fontsize=20)\n",
    "lines = line1+line2+lin3+lin4#+l0+l1+l2+l3\n",
    "labs = [label.get_label() for label in lines]\n",
    "ax2.legend(lines,labs,fontsize=20,loc='upper center')\n",
    "#plt.title(\"Mutation Rate of NSEM Structural Protein and Dead Rate\",fontsize=20)\n",
    "plt.savefig('fig3.1.2.svg',dpi=200)\n",
    "plt.show()\n",
    "# B.1.617.2\n",
    "# AY.23\n",
    "# AY.30"
   ]
  },
  {
   "cell_type": "code",
   "execution_count": 130,
   "metadata": {},
   "outputs": [
    {
     "data": {
      "image/png": "[encoded data removed]",
      "text/plain": [
       "<Figure size 1440x720 with 1 Axes>"
      ]
     },
     "metadata": {
      "needs_background": "light"
     },
     "output_type": "display_data"
    }
   ],
   "source": [
    "#fig = plt.figure(figsize=(20,10))\n",
    "fig, ax = plt.subplots(figsize=(20,10))\n",
    "#ax = fig.add_subplot(111)\n",
    "#ax.scatter(date, N)\n",
    "#ax.set_ylim(0,0.2)\n",
    "cut = 0.02\n",
    "\n",
    "plt.scatter(date, N, color='red',label='N')\n",
    "\n",
    "plt.scatter(date, S,label='S',color='y')\n",
    "plt.scatter(date, E,label='E',color='pink')\n",
    "\n",
    "plt.scatter(date, M,label='M',color='purple')\n",
    "ax.set_ylabel('Muation Rate',fontsize=20)\n",
    "\n",
    "# lin3= plt.plot(final_plot.index,dead_rate,linewidth=6,label='Correction Dead Rate',color='lightcoral')\n",
    "# lin4= plt.plot(final_plot.index,dead_rate_t,linewidth=2.5,label='Dead Rate True',color='darkolivegreen')\n",
    "\n",
    "# ax2 = ax.twinx()\n",
    "# line1 = plt.plot(final_plot.index,final_plot['conf'],label = 'Origin Count',c='cornflowerblue')\n",
    "# line2 = plt.plot(final_plot.index,correct_conf_list,label='Correction Count',color='cyan')\n",
    "# ax2.set_ylabel('Confirmed Count',fontsize=20)\n",
    "# lines = line1+line2+lin3+lin4\n",
    "# labs = [label.get_label() for label in lines]\n",
    "# ax2.legend(lines,labs,fontsize=20,loc='upper center')\n",
    "plt.title(\"Mutation Rate of NSEM Structural Protein and Dead Rate\",fontsize=20)\n",
    "plt.legend()\n",
    "plt.savefig('fig3.2.jpg',dpi=200)\n",
    "plt.show()\n",
    "\n",
    "# B.1.617.2\n",
    "# AY.23\n",
    "# AY.30"
   ]
  },
  {
   "cell_type": "code",
   "execution_count": null,
   "metadata": {},
   "outputs": [],
   "source": [
    "final = pd.DataFrame(list_all_country,columns=['country','conf','dead','cure','time'])\n",
    "final['time'] = pd.to_datetime(final['time'])"
   ]
  }
 ],
 "metadata": {
  "kernelspec": {
   "display_name": "Python 3 (ipykernel)",
   "language": "python",
   "name": "python3"
  },
  "language_info": {
   "codemirror_mode": {
    "name": "ipython",
    "version": 3
   },
   "file_extension": ".py",
   "mimetype": "text/x-python",
   "name": "python",
   "nbconvert_exporter": "python",
   "pygments_lexer": "ipython3",
   "version": "3.8.13"
  }
 },
 "nbformat": 4,
 "nbformat_minor": 1
}
